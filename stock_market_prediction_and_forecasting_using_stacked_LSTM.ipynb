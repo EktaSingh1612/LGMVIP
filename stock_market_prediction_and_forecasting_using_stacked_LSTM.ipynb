{
  "nbformat": 4,
  "nbformat_minor": 0,
  "metadata": {
    "colab": {
      "name": "stock market prediction and forecasting using stacked LSTM.ipynb",
      "provenance": [],
      "toc_visible": true,
      "collapsed_sections": [],
      "authorship_tag": "ABX9TyPUQGSQbBbU0VDpnUmU0T97",
      "include_colab_link": true
    },
    "kernelspec": {
      "name": "python3",
      "display_name": "Python 3"
    },
    "language_info": {
      "name": "python"
    }
  },
  "cells": [
    {
      "cell_type": "markdown",
      "metadata": {
        "id": "view-in-github",
        "colab_type": "text"
      },
      "source": [
        "<a href=\"https://colab.research.google.com/github/EktaSingh1612/LGMVIP/blob/main/stock_market_prediction_and_forecasting_using_stacked_LSTM.ipynb\" target=\"_parent\"><img src=\"https://colab.research.google.com/assets/colab-badge.svg\" alt=\"Open In Colab\"/></a>"
      ]
    },
    {
      "cell_type": "markdown",
      "source": [
        "# LGMVIP Data Science Internship\n",
        "\n",
        "## Author : EKTA SINGH\n",
        "\n",
        "## Beginner Level Task 2 - Stock Market Prediction And Forecasting Using Stacked LSTM\n",
        "\n",
        "### Technique used: Deep Learning: Stacked Long Short Term Memory (LSTM)\n",
        "\n"
      ],
      "metadata": {
        "id": "powCuxXmyySx"
      }
    },
    {
      "cell_type": "markdown",
      "source": [
        "# Importing libraries"
      ],
      "metadata": {
        "id": "-pGo6x39n5rE"
      }
    },
    {
      "cell_type": "code",
      "source": [
        "import numpy as np\n",
        "import pandas as pd\n",
        "import math\n",
        "import matplotlib.pyplot as plt\n",
        "import seaborn as sns"
      ],
      "metadata": {
        "id": "KX8plTIcy1XX"
      },
      "execution_count": 2,
      "outputs": []
    },
    {
      "cell_type": "markdown",
      "source": [
        "# Importing datasets"
      ],
      "metadata": {
        "id": "R2P3YMKby9aX"
      }
    },
    {
      "cell_type": "code",
      "source": [
        "df = pd.read_csv('https://raw.githubusercontent.com/mwitiderrick/stockprice/master/NSE-TATAGLOBAL.csv')\n",
        "df.head(5)"
      ],
      "metadata": {
        "id": "NtE7EY75zCbZ",
        "colab": {
          "base_uri": "https://localhost:8080/",
          "height": 214
        },
        "outputId": "1c185734-11c5-4fe3-9638-32498c8cf96b"
      },
      "execution_count": 3,
      "outputs": [
        {
          "output_type": "execute_result",
          "data": {
            "text/html": [
              "\n",
              "  <div id=\"df-81b083ad-f516-49da-8b3f-2e93e866ec42\">\n",
              "    <div class=\"colab-df-container\">\n",
              "      <div>\n",
              "<style scoped>\n",
              "    .dataframe tbody tr th:only-of-type {\n",
              "        vertical-align: middle;\n",
              "    }\n",
              "\n",
              "    .dataframe tbody tr th {\n",
              "        vertical-align: top;\n",
              "    }\n",
              "\n",
              "    .dataframe thead th {\n",
              "        text-align: right;\n",
              "    }\n",
              "</style>\n",
              "<table border=\"1\" class=\"dataframe\">\n",
              "  <thead>\n",
              "    <tr style=\"text-align: right;\">\n",
              "      <th></th>\n",
              "      <th>Date</th>\n",
              "      <th>Open</th>\n",
              "      <th>High</th>\n",
              "      <th>Low</th>\n",
              "      <th>Last</th>\n",
              "      <th>Close</th>\n",
              "      <th>Total Trade Quantity</th>\n",
              "      <th>Turnover (Lacs)</th>\n",
              "    </tr>\n",
              "  </thead>\n",
              "  <tbody>\n",
              "    <tr>\n",
              "      <th>0</th>\n",
              "      <td>2018-09-28</td>\n",
              "      <td>234.05</td>\n",
              "      <td>235.95</td>\n",
              "      <td>230.20</td>\n",
              "      <td>233.50</td>\n",
              "      <td>233.75</td>\n",
              "      <td>3069914</td>\n",
              "      <td>7162.35</td>\n",
              "    </tr>\n",
              "    <tr>\n",
              "      <th>1</th>\n",
              "      <td>2018-09-27</td>\n",
              "      <td>234.55</td>\n",
              "      <td>236.80</td>\n",
              "      <td>231.10</td>\n",
              "      <td>233.80</td>\n",
              "      <td>233.25</td>\n",
              "      <td>5082859</td>\n",
              "      <td>11859.95</td>\n",
              "    </tr>\n",
              "    <tr>\n",
              "      <th>2</th>\n",
              "      <td>2018-09-26</td>\n",
              "      <td>240.00</td>\n",
              "      <td>240.00</td>\n",
              "      <td>232.50</td>\n",
              "      <td>235.00</td>\n",
              "      <td>234.25</td>\n",
              "      <td>2240909</td>\n",
              "      <td>5248.60</td>\n",
              "    </tr>\n",
              "    <tr>\n",
              "      <th>3</th>\n",
              "      <td>2018-09-25</td>\n",
              "      <td>233.30</td>\n",
              "      <td>236.75</td>\n",
              "      <td>232.00</td>\n",
              "      <td>236.25</td>\n",
              "      <td>236.10</td>\n",
              "      <td>2349368</td>\n",
              "      <td>5503.90</td>\n",
              "    </tr>\n",
              "    <tr>\n",
              "      <th>4</th>\n",
              "      <td>2018-09-24</td>\n",
              "      <td>233.55</td>\n",
              "      <td>239.20</td>\n",
              "      <td>230.75</td>\n",
              "      <td>234.00</td>\n",
              "      <td>233.30</td>\n",
              "      <td>3423509</td>\n",
              "      <td>7999.55</td>\n",
              "    </tr>\n",
              "  </tbody>\n",
              "</table>\n",
              "</div>\n",
              "      <button class=\"colab-df-convert\" onclick=\"convertToInteractive('df-81b083ad-f516-49da-8b3f-2e93e866ec42')\"\n",
              "              title=\"Convert this dataframe to an interactive table.\"\n",
              "              style=\"display:none;\">\n",
              "        \n",
              "  <svg xmlns=\"http://www.w3.org/2000/svg\" height=\"24px\"viewBox=\"0 0 24 24\"\n",
              "       width=\"24px\">\n",
              "    <path d=\"M0 0h24v24H0V0z\" fill=\"none\"/>\n",
              "    <path d=\"M18.56 5.44l.94 2.06.94-2.06 2.06-.94-2.06-.94-.94-2.06-.94 2.06-2.06.94zm-11 1L8.5 8.5l.94-2.06 2.06-.94-2.06-.94L8.5 2.5l-.94 2.06-2.06.94zm10 10l.94 2.06.94-2.06 2.06-.94-2.06-.94-.94-2.06-.94 2.06-2.06.94z\"/><path d=\"M17.41 7.96l-1.37-1.37c-.4-.4-.92-.59-1.43-.59-.52 0-1.04.2-1.43.59L10.3 9.45l-7.72 7.72c-.78.78-.78 2.05 0 2.83L4 21.41c.39.39.9.59 1.41.59.51 0 1.02-.2 1.41-.59l7.78-7.78 2.81-2.81c.8-.78.8-2.07 0-2.86zM5.41 20L4 18.59l7.72-7.72 1.47 1.35L5.41 20z\"/>\n",
              "  </svg>\n",
              "      </button>\n",
              "      \n",
              "  <style>\n",
              "    .colab-df-container {\n",
              "      display:flex;\n",
              "      flex-wrap:wrap;\n",
              "      gap: 12px;\n",
              "    }\n",
              "\n",
              "    .colab-df-convert {\n",
              "      background-color: #E8F0FE;\n",
              "      border: none;\n",
              "      border-radius: 50%;\n",
              "      cursor: pointer;\n",
              "      display: none;\n",
              "      fill: #1967D2;\n",
              "      height: 32px;\n",
              "      padding: 0 0 0 0;\n",
              "      width: 32px;\n",
              "    }\n",
              "\n",
              "    .colab-df-convert:hover {\n",
              "      background-color: #E2EBFA;\n",
              "      box-shadow: 0px 1px 2px rgba(60, 64, 67, 0.3), 0px 1px 3px 1px rgba(60, 64, 67, 0.15);\n",
              "      fill: #174EA6;\n",
              "    }\n",
              "\n",
              "    [theme=dark] .colab-df-convert {\n",
              "      background-color: #3B4455;\n",
              "      fill: #D2E3FC;\n",
              "    }\n",
              "\n",
              "    [theme=dark] .colab-df-convert:hover {\n",
              "      background-color: #434B5C;\n",
              "      box-shadow: 0px 1px 3px 1px rgba(0, 0, 0, 0.15);\n",
              "      filter: drop-shadow(0px 1px 2px rgba(0, 0, 0, 0.3));\n",
              "      fill: #FFFFFF;\n",
              "    }\n",
              "  </style>\n",
              "\n",
              "      <script>\n",
              "        const buttonEl =\n",
              "          document.querySelector('#df-81b083ad-f516-49da-8b3f-2e93e866ec42 button.colab-df-convert');\n",
              "        buttonEl.style.display =\n",
              "          google.colab.kernel.accessAllowed ? 'block' : 'none';\n",
              "\n",
              "        async function convertToInteractive(key) {\n",
              "          const element = document.querySelector('#df-81b083ad-f516-49da-8b3f-2e93e866ec42');\n",
              "          const dataTable =\n",
              "            await google.colab.kernel.invokeFunction('convertToInteractive',\n",
              "                                                     [key], {});\n",
              "          if (!dataTable) return;\n",
              "\n",
              "          const docLinkHtml = 'Like what you see? Visit the ' +\n",
              "            '<a target=\"_blank\" href=https://colab.research.google.com/notebooks/data_table.ipynb>data table notebook</a>'\n",
              "            + ' to learn more about interactive tables.';\n",
              "          element.innerHTML = '';\n",
              "          dataTable['output_type'] = 'display_data';\n",
              "          await google.colab.output.renderOutput(dataTable, element);\n",
              "          const docLink = document.createElement('div');\n",
              "          docLink.innerHTML = docLinkHtml;\n",
              "          element.appendChild(docLink);\n",
              "        }\n",
              "      </script>\n",
              "    </div>\n",
              "  </div>\n",
              "  "
            ],
            "text/plain": [
              "         Date    Open    High  ...   Close  Total Trade Quantity  Turnover (Lacs)\n",
              "0  2018-09-28  234.05  235.95  ...  233.75               3069914          7162.35\n",
              "1  2018-09-27  234.55  236.80  ...  233.25               5082859         11859.95\n",
              "2  2018-09-26  240.00  240.00  ...  234.25               2240909          5248.60\n",
              "3  2018-09-25  233.30  236.75  ...  236.10               2349368          5503.90\n",
              "4  2018-09-24  233.55  239.20  ...  233.30               3423509          7999.55\n",
              "\n",
              "[5 rows x 8 columns]"
            ]
          },
          "metadata": {},
          "execution_count": 3
        }
      ]
    },
    {
      "cell_type": "markdown",
      "source": [
        "# Investigating the dataset"
      ],
      "metadata": {
        "id": "f-kJfceBWmNH"
      }
    },
    {
      "cell_type": "code",
      "source": [
        "df.describe()"
      ],
      "metadata": {
        "colab": {
          "base_uri": "https://localhost:8080/",
          "height": 277
        },
        "id": "xR7iZbkBzHWc",
        "outputId": "2faf8da6-39b9-421d-e977-6e14fa52df07"
      },
      "execution_count": 5,
      "outputs": [
        {
          "output_type": "execute_result",
          "data": {
            "text/html": [
              "\n",
              "  <div id=\"df-85196b96-7e35-41be-ac52-70fd1893359d\">\n",
              "    <div class=\"colab-df-container\">\n",
              "      <div>\n",
              "<style scoped>\n",
              "    .dataframe tbody tr th:only-of-type {\n",
              "        vertical-align: middle;\n",
              "    }\n",
              "\n",
              "    .dataframe tbody tr th {\n",
              "        vertical-align: top;\n",
              "    }\n",
              "\n",
              "    .dataframe thead th {\n",
              "        text-align: right;\n",
              "    }\n",
              "</style>\n",
              "<table border=\"1\" class=\"dataframe\">\n",
              "  <thead>\n",
              "    <tr style=\"text-align: right;\">\n",
              "      <th></th>\n",
              "      <th>Open</th>\n",
              "      <th>High</th>\n",
              "      <th>Low</th>\n",
              "      <th>Last</th>\n",
              "      <th>Close</th>\n",
              "      <th>Total Trade Quantity</th>\n",
              "      <th>Turnover (Lacs)</th>\n",
              "    </tr>\n",
              "  </thead>\n",
              "  <tbody>\n",
              "    <tr>\n",
              "      <th>count</th>\n",
              "      <td>2035.000000</td>\n",
              "      <td>2035.000000</td>\n",
              "      <td>2035.000000</td>\n",
              "      <td>2035.000000</td>\n",
              "      <td>2035.00000</td>\n",
              "      <td>2.035000e+03</td>\n",
              "      <td>2035.000000</td>\n",
              "    </tr>\n",
              "    <tr>\n",
              "      <th>mean</th>\n",
              "      <td>149.713735</td>\n",
              "      <td>151.992826</td>\n",
              "      <td>147.293931</td>\n",
              "      <td>149.474251</td>\n",
              "      <td>149.45027</td>\n",
              "      <td>2.335681e+06</td>\n",
              "      <td>3899.980565</td>\n",
              "    </tr>\n",
              "    <tr>\n",
              "      <th>std</th>\n",
              "      <td>48.664509</td>\n",
              "      <td>49.413109</td>\n",
              "      <td>47.931958</td>\n",
              "      <td>48.732570</td>\n",
              "      <td>48.71204</td>\n",
              "      <td>2.091778e+06</td>\n",
              "      <td>4570.767877</td>\n",
              "    </tr>\n",
              "    <tr>\n",
              "      <th>min</th>\n",
              "      <td>81.100000</td>\n",
              "      <td>82.800000</td>\n",
              "      <td>80.000000</td>\n",
              "      <td>81.000000</td>\n",
              "      <td>80.95000</td>\n",
              "      <td>3.961000e+04</td>\n",
              "      <td>37.040000</td>\n",
              "    </tr>\n",
              "    <tr>\n",
              "      <th>25%</th>\n",
              "      <td>120.025000</td>\n",
              "      <td>122.100000</td>\n",
              "      <td>118.300000</td>\n",
              "      <td>120.075000</td>\n",
              "      <td>120.05000</td>\n",
              "      <td>1.146444e+06</td>\n",
              "      <td>1427.460000</td>\n",
              "    </tr>\n",
              "    <tr>\n",
              "      <th>50%</th>\n",
              "      <td>141.500000</td>\n",
              "      <td>143.400000</td>\n",
              "      <td>139.600000</td>\n",
              "      <td>141.100000</td>\n",
              "      <td>141.25000</td>\n",
              "      <td>1.783456e+06</td>\n",
              "      <td>2512.030000</td>\n",
              "    </tr>\n",
              "    <tr>\n",
              "      <th>75%</th>\n",
              "      <td>157.175000</td>\n",
              "      <td>159.400000</td>\n",
              "      <td>155.150000</td>\n",
              "      <td>156.925000</td>\n",
              "      <td>156.90000</td>\n",
              "      <td>2.813594e+06</td>\n",
              "      <td>4539.015000</td>\n",
              "    </tr>\n",
              "    <tr>\n",
              "      <th>max</th>\n",
              "      <td>327.700000</td>\n",
              "      <td>328.750000</td>\n",
              "      <td>321.650000</td>\n",
              "      <td>325.950000</td>\n",
              "      <td>325.75000</td>\n",
              "      <td>2.919102e+07</td>\n",
              "      <td>55755.080000</td>\n",
              "    </tr>\n",
              "  </tbody>\n",
              "</table>\n",
              "</div>\n",
              "      <button class=\"colab-df-convert\" onclick=\"convertToInteractive('df-85196b96-7e35-41be-ac52-70fd1893359d')\"\n",
              "              title=\"Convert this dataframe to an interactive table.\"\n",
              "              style=\"display:none;\">\n",
              "        \n",
              "  <svg xmlns=\"http://www.w3.org/2000/svg\" height=\"24px\"viewBox=\"0 0 24 24\"\n",
              "       width=\"24px\">\n",
              "    <path d=\"M0 0h24v24H0V0z\" fill=\"none\"/>\n",
              "    <path d=\"M18.56 5.44l.94 2.06.94-2.06 2.06-.94-2.06-.94-.94-2.06-.94 2.06-2.06.94zm-11 1L8.5 8.5l.94-2.06 2.06-.94-2.06-.94L8.5 2.5l-.94 2.06-2.06.94zm10 10l.94 2.06.94-2.06 2.06-.94-2.06-.94-.94-2.06-.94 2.06-2.06.94z\"/><path d=\"M17.41 7.96l-1.37-1.37c-.4-.4-.92-.59-1.43-.59-.52 0-1.04.2-1.43.59L10.3 9.45l-7.72 7.72c-.78.78-.78 2.05 0 2.83L4 21.41c.39.39.9.59 1.41.59.51 0 1.02-.2 1.41-.59l7.78-7.78 2.81-2.81c.8-.78.8-2.07 0-2.86zM5.41 20L4 18.59l7.72-7.72 1.47 1.35L5.41 20z\"/>\n",
              "  </svg>\n",
              "      </button>\n",
              "      \n",
              "  <style>\n",
              "    .colab-df-container {\n",
              "      display:flex;\n",
              "      flex-wrap:wrap;\n",
              "      gap: 12px;\n",
              "    }\n",
              "\n",
              "    .colab-df-convert {\n",
              "      background-color: #E8F0FE;\n",
              "      border: none;\n",
              "      border-radius: 50%;\n",
              "      cursor: pointer;\n",
              "      display: none;\n",
              "      fill: #1967D2;\n",
              "      height: 32px;\n",
              "      padding: 0 0 0 0;\n",
              "      width: 32px;\n",
              "    }\n",
              "\n",
              "    .colab-df-convert:hover {\n",
              "      background-color: #E2EBFA;\n",
              "      box-shadow: 0px 1px 2px rgba(60, 64, 67, 0.3), 0px 1px 3px 1px rgba(60, 64, 67, 0.15);\n",
              "      fill: #174EA6;\n",
              "    }\n",
              "\n",
              "    [theme=dark] .colab-df-convert {\n",
              "      background-color: #3B4455;\n",
              "      fill: #D2E3FC;\n",
              "    }\n",
              "\n",
              "    [theme=dark] .colab-df-convert:hover {\n",
              "      background-color: #434B5C;\n",
              "      box-shadow: 0px 1px 3px 1px rgba(0, 0, 0, 0.15);\n",
              "      filter: drop-shadow(0px 1px 2px rgba(0, 0, 0, 0.3));\n",
              "      fill: #FFFFFF;\n",
              "    }\n",
              "  </style>\n",
              "\n",
              "      <script>\n",
              "        const buttonEl =\n",
              "          document.querySelector('#df-85196b96-7e35-41be-ac52-70fd1893359d button.colab-df-convert');\n",
              "        buttonEl.style.display =\n",
              "          google.colab.kernel.accessAllowed ? 'block' : 'none';\n",
              "\n",
              "        async function convertToInteractive(key) {\n",
              "          const element = document.querySelector('#df-85196b96-7e35-41be-ac52-70fd1893359d');\n",
              "          const dataTable =\n",
              "            await google.colab.kernel.invokeFunction('convertToInteractive',\n",
              "                                                     [key], {});\n",
              "          if (!dataTable) return;\n",
              "\n",
              "          const docLinkHtml = 'Like what you see? Visit the ' +\n",
              "            '<a target=\"_blank\" href=https://colab.research.google.com/notebooks/data_table.ipynb>data table notebook</a>'\n",
              "            + ' to learn more about interactive tables.';\n",
              "          element.innerHTML = '';\n",
              "          dataTable['output_type'] = 'display_data';\n",
              "          await google.colab.output.renderOutput(dataTable, element);\n",
              "          const docLink = document.createElement('div');\n",
              "          docLink.innerHTML = docLinkHtml;\n",
              "          element.appendChild(docLink);\n",
              "        }\n",
              "      </script>\n",
              "    </div>\n",
              "  </div>\n",
              "  "
            ],
            "text/plain": [
              "              Open         High  ...  Total Trade Quantity  Turnover (Lacs)\n",
              "count  2035.000000  2035.000000  ...          2.035000e+03      2035.000000\n",
              "mean    149.713735   151.992826  ...          2.335681e+06      3899.980565\n",
              "std      48.664509    49.413109  ...          2.091778e+06      4570.767877\n",
              "min      81.100000    82.800000  ...          3.961000e+04        37.040000\n",
              "25%     120.025000   122.100000  ...          1.146444e+06      1427.460000\n",
              "50%     141.500000   143.400000  ...          1.783456e+06      2512.030000\n",
              "75%     157.175000   159.400000  ...          2.813594e+06      4539.015000\n",
              "max     327.700000   328.750000  ...          2.919102e+07     55755.080000\n",
              "\n",
              "[8 rows x 7 columns]"
            ]
          },
          "metadata": {},
          "execution_count": 5
        }
      ]
    },
    {
      "cell_type": "code",
      "source": [
        "df.shape"
      ],
      "metadata": {
        "id": "rOFxnlaI2C9v",
        "colab": {
          "base_uri": "https://localhost:8080/"
        },
        "outputId": "3cf3ed72-717b-4174-e53b-beb0ec953daf"
      },
      "execution_count": 6,
      "outputs": [
        {
          "output_type": "execute_result",
          "data": {
            "text/plain": [
              "(2035, 8)"
            ]
          },
          "metadata": {},
          "execution_count": 6
        }
      ]
    },
    {
      "cell_type": "code",
      "source": [
        "df.tail(5)"
      ],
      "metadata": {
        "colab": {
          "base_uri": "https://localhost:8080/",
          "height": 204
        },
        "id": "yp5OybUqWy9y",
        "outputId": "3767ccfe-b4cb-4554-a69d-901da01fe1dc"
      },
      "execution_count": 8,
      "outputs": [
        {
          "output_type": "execute_result",
          "data": {
            "text/html": [
              "\n",
              "  <div id=\"df-60984cd6-bb33-49a0-a163-68092a407158\">\n",
              "    <div class=\"colab-df-container\">\n",
              "      <div>\n",
              "<style scoped>\n",
              "    .dataframe tbody tr th:only-of-type {\n",
              "        vertical-align: middle;\n",
              "    }\n",
              "\n",
              "    .dataframe tbody tr th {\n",
              "        vertical-align: top;\n",
              "    }\n",
              "\n",
              "    .dataframe thead th {\n",
              "        text-align: right;\n",
              "    }\n",
              "</style>\n",
              "<table border=\"1\" class=\"dataframe\">\n",
              "  <thead>\n",
              "    <tr style=\"text-align: right;\">\n",
              "      <th></th>\n",
              "      <th>Date</th>\n",
              "      <th>Open</th>\n",
              "      <th>High</th>\n",
              "      <th>Low</th>\n",
              "      <th>Last</th>\n",
              "      <th>Close</th>\n",
              "      <th>Total Trade Quantity</th>\n",
              "      <th>Turnover (Lacs)</th>\n",
              "    </tr>\n",
              "  </thead>\n",
              "  <tbody>\n",
              "    <tr>\n",
              "      <th>2030</th>\n",
              "      <td>2010-07-27</td>\n",
              "      <td>117.6</td>\n",
              "      <td>119.50</td>\n",
              "      <td>112.00</td>\n",
              "      <td>118.80</td>\n",
              "      <td>118.65</td>\n",
              "      <td>586100</td>\n",
              "      <td>694.98</td>\n",
              "    </tr>\n",
              "    <tr>\n",
              "      <th>2031</th>\n",
              "      <td>2010-07-26</td>\n",
              "      <td>120.1</td>\n",
              "      <td>121.00</td>\n",
              "      <td>117.10</td>\n",
              "      <td>117.10</td>\n",
              "      <td>117.60</td>\n",
              "      <td>658440</td>\n",
              "      <td>780.01</td>\n",
              "    </tr>\n",
              "    <tr>\n",
              "      <th>2032</th>\n",
              "      <td>2010-07-23</td>\n",
              "      <td>121.8</td>\n",
              "      <td>121.95</td>\n",
              "      <td>120.25</td>\n",
              "      <td>120.35</td>\n",
              "      <td>120.65</td>\n",
              "      <td>281312</td>\n",
              "      <td>340.31</td>\n",
              "    </tr>\n",
              "    <tr>\n",
              "      <th>2033</th>\n",
              "      <td>2010-07-22</td>\n",
              "      <td>120.3</td>\n",
              "      <td>122.00</td>\n",
              "      <td>120.25</td>\n",
              "      <td>120.75</td>\n",
              "      <td>120.90</td>\n",
              "      <td>293312</td>\n",
              "      <td>355.17</td>\n",
              "    </tr>\n",
              "    <tr>\n",
              "      <th>2034</th>\n",
              "      <td>2010-07-21</td>\n",
              "      <td>122.1</td>\n",
              "      <td>123.00</td>\n",
              "      <td>121.05</td>\n",
              "      <td>121.10</td>\n",
              "      <td>121.55</td>\n",
              "      <td>658666</td>\n",
              "      <td>803.56</td>\n",
              "    </tr>\n",
              "  </tbody>\n",
              "</table>\n",
              "</div>\n",
              "      <button class=\"colab-df-convert\" onclick=\"convertToInteractive('df-60984cd6-bb33-49a0-a163-68092a407158')\"\n",
              "              title=\"Convert this dataframe to an interactive table.\"\n",
              "              style=\"display:none;\">\n",
              "        \n",
              "  <svg xmlns=\"http://www.w3.org/2000/svg\" height=\"24px\"viewBox=\"0 0 24 24\"\n",
              "       width=\"24px\">\n",
              "    <path d=\"M0 0h24v24H0V0z\" fill=\"none\"/>\n",
              "    <path d=\"M18.56 5.44l.94 2.06.94-2.06 2.06-.94-2.06-.94-.94-2.06-.94 2.06-2.06.94zm-11 1L8.5 8.5l.94-2.06 2.06-.94-2.06-.94L8.5 2.5l-.94 2.06-2.06.94zm10 10l.94 2.06.94-2.06 2.06-.94-2.06-.94-.94-2.06-.94 2.06-2.06.94z\"/><path d=\"M17.41 7.96l-1.37-1.37c-.4-.4-.92-.59-1.43-.59-.52 0-1.04.2-1.43.59L10.3 9.45l-7.72 7.72c-.78.78-.78 2.05 0 2.83L4 21.41c.39.39.9.59 1.41.59.51 0 1.02-.2 1.41-.59l7.78-7.78 2.81-2.81c.8-.78.8-2.07 0-2.86zM5.41 20L4 18.59l7.72-7.72 1.47 1.35L5.41 20z\"/>\n",
              "  </svg>\n",
              "      </button>\n",
              "      \n",
              "  <style>\n",
              "    .colab-df-container {\n",
              "      display:flex;\n",
              "      flex-wrap:wrap;\n",
              "      gap: 12px;\n",
              "    }\n",
              "\n",
              "    .colab-df-convert {\n",
              "      background-color: #E8F0FE;\n",
              "      border: none;\n",
              "      border-radius: 50%;\n",
              "      cursor: pointer;\n",
              "      display: none;\n",
              "      fill: #1967D2;\n",
              "      height: 32px;\n",
              "      padding: 0 0 0 0;\n",
              "      width: 32px;\n",
              "    }\n",
              "\n",
              "    .colab-df-convert:hover {\n",
              "      background-color: #E2EBFA;\n",
              "      box-shadow: 0px 1px 2px rgba(60, 64, 67, 0.3), 0px 1px 3px 1px rgba(60, 64, 67, 0.15);\n",
              "      fill: #174EA6;\n",
              "    }\n",
              "\n",
              "    [theme=dark] .colab-df-convert {\n",
              "      background-color: #3B4455;\n",
              "      fill: #D2E3FC;\n",
              "    }\n",
              "\n",
              "    [theme=dark] .colab-df-convert:hover {\n",
              "      background-color: #434B5C;\n",
              "      box-shadow: 0px 1px 3px 1px rgba(0, 0, 0, 0.15);\n",
              "      filter: drop-shadow(0px 1px 2px rgba(0, 0, 0, 0.3));\n",
              "      fill: #FFFFFF;\n",
              "    }\n",
              "  </style>\n",
              "\n",
              "      <script>\n",
              "        const buttonEl =\n",
              "          document.querySelector('#df-60984cd6-bb33-49a0-a163-68092a407158 button.colab-df-convert');\n",
              "        buttonEl.style.display =\n",
              "          google.colab.kernel.accessAllowed ? 'block' : 'none';\n",
              "\n",
              "        async function convertToInteractive(key) {\n",
              "          const element = document.querySelector('#df-60984cd6-bb33-49a0-a163-68092a407158');\n",
              "          const dataTable =\n",
              "            await google.colab.kernel.invokeFunction('convertToInteractive',\n",
              "                                                     [key], {});\n",
              "          if (!dataTable) return;\n",
              "\n",
              "          const docLinkHtml = 'Like what you see? Visit the ' +\n",
              "            '<a target=\"_blank\" href=https://colab.research.google.com/notebooks/data_table.ipynb>data table notebook</a>'\n",
              "            + ' to learn more about interactive tables.';\n",
              "          element.innerHTML = '';\n",
              "          dataTable['output_type'] = 'display_data';\n",
              "          await google.colab.output.renderOutput(dataTable, element);\n",
              "          const docLink = document.createElement('div');\n",
              "          docLink.innerHTML = docLinkHtml;\n",
              "          element.appendChild(docLink);\n",
              "        }\n",
              "      </script>\n",
              "    </div>\n",
              "  </div>\n",
              "  "
            ],
            "text/plain": [
              "            Date   Open    High  ...   Close  Total Trade Quantity  Turnover (Lacs)\n",
              "2030  2010-07-27  117.6  119.50  ...  118.65                586100           694.98\n",
              "2031  2010-07-26  120.1  121.00  ...  117.60                658440           780.01\n",
              "2032  2010-07-23  121.8  121.95  ...  120.65                281312           340.31\n",
              "2033  2010-07-22  120.3  122.00  ...  120.90                293312           355.17\n",
              "2034  2010-07-21  122.1  123.00  ...  121.55                658666           803.56\n",
              "\n",
              "[5 rows x 8 columns]"
            ]
          },
          "metadata": {},
          "execution_count": 8
        }
      ]
    },
    {
      "cell_type": "markdown",
      "source": [
        "Hence, here total of 2035 days of data is there from 28/09/2018 to 21/07/2010.\n",
        "\n",
        "So let's analyse with closing stock price (we can do it with any other too) throughout & how it performed for each day by ploting graph."
      ],
      "metadata": {
        "id": "sUVoqSyXXHfj"
      }
    },
    {
      "cell_type": "code",
      "source": [
        "plt.plot(df['Close'])"
      ],
      "metadata": {
        "colab": {
          "base_uri": "https://localhost:8080/",
          "height": 282
        },
        "id": "HH-epRrBZzik",
        "outputId": "972d857b-c97f-41e0-f91b-b6607a9faccb"
      },
      "execution_count": 12,
      "outputs": [
        {
          "output_type": "execute_result",
          "data": {
            "text/plain": [
              "[<matplotlib.lines.Line2D at 0x7efe5196a9d0>]"
            ]
          },
          "metadata": {},
          "execution_count": 12
        },
        {
          "output_type": "display_data",
          "data": {
            "image/png": "[encoded data removed]",
            "text/plain": [
              "<Figure size 432x288 with 1 Axes>"
            ]
          },
          "metadata": {
            "needs_background": "light"
          }
        }
      ]
    },
    {
      "cell_type": "markdown",
      "source": [
        "Lets make a new variable for just closing stock price so as to train the model."
      ],
      "metadata": {
        "id": "F9p4VVJtaskT"
      }
    },
    {
      "cell_type": "code",
      "source": [
        "df_close = df.reset_index()['Close']\n",
        "df_close"
      ],
      "metadata": {
        "colab": {
          "base_uri": "https://localhost:8080/"
        },
        "id": "al8mZ6PpbMyt",
        "outputId": "aaed69a5-6f89-43b6-adff-c51aab849c76"
      },
      "execution_count": 13,
      "outputs": [
        {
          "output_type": "execute_result",
          "data": {
            "text/plain": [
              "0       233.75\n",
              "1       233.25\n",
              "2       234.25\n",
              "3       236.10\n",
              "4       233.30\n",
              "         ...  \n",
              "2030    118.65\n",
              "2031    117.60\n",
              "2032    120.65\n",
              "2033    120.90\n",
              "2034    121.55\n",
              "Name: Close, Length: 2035, dtype: float64"
            ]
          },
          "metadata": {},
          "execution_count": 13
        }
      ]
    },
    {
      "cell_type": "code",
      "source": [
        "# LSTM are sensitive to the scale of the data, so we apply MinMax scaler where we tranfer the values between 0 to 1\n",
        "\n",
        "from sklearn.preprocessing import MinMaxScaler\n",
        "\n",
        "scaler = MinMaxScaler(feature_range=(0,1)) #defining the range\n",
        "df_close=scaler.fit_transform(np.array(df_close).reshape(-1,1))\n",
        "print(df_close)"
      ],
      "metadata": {
        "colab": {
          "base_uri": "https://localhost:8080/"
        },
        "id": "nCXHSx_sactT",
        "outputId": "5ce12d44-4c23-43e8-e072-c813e92d97bb"
      },
      "execution_count": 14,
      "outputs": [
        {
          "output_type": "stream",
          "name": "stdout",
          "text": [
            "[[0.62418301]\n",
            " [0.62214052]\n",
            " [0.62622549]\n",
            " ...\n",
            " [0.1621732 ]\n",
            " [0.16319444]\n",
            " [0.16584967]]\n"
          ]
        }
      ]
    },
    {
      "cell_type": "code",
      "source": [
        "# In time series case the data is always depend on the preivious dates of the data\n",
        "# split dataset into train and test split\n",
        "\n",
        "training_size = int(len(df_close)*0.70) #define the size of the training data (65%)\n",
        "test_size = len(df_close) - training_size\n",
        "train_data,test_data = df_close[0:training_size,:],df_close[training_size:len(df_close),:1]\n",
        "print(training_size,test_size)"
      ],
      "metadata": {
        "colab": {
          "base_uri": "https://localhost:8080/"
        },
        "id": "aHZXWheFblFN",
        "outputId": "5296611f-e2be-40fc-930c-6d416b05c364"
      },
      "execution_count": 15,
      "outputs": [
        {
          "output_type": "stream",
          "name": "stdout",
          "text": [
            "1424 611\n"
          ]
        }
      ]
    },
    {
      "cell_type": "markdown",
      "source": [
        "here since the data is dependent on the previous data so here we consider timesteps to identify the x_train data and y_train data. let's suppose we consider timesteps=3 then our x_train data contain first 3 values and y_train data contains the 4th values similarly we do this for 5th value=2nd+3rd+4th value in our feature model.\n",
        "\n",
        "For Example consider:\n",
        "\n",
        "![Unknown.png](data:image/png;base64,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)\n",
        "\n",
        "Now consider this data to train our LSTM model We will do this for our test data also."
      ],
      "metadata": {
        "id": "n_TF36fxgmkG"
      }
    },
    {
      "cell_type": "code",
      "source": [
        "# convert an array of values into a dataset matrix\n",
        "\n",
        "def create_dataset(dataset, time_step=1):\n",
        "  dataX, dataY = [], []\n",
        "  for i in range(len(dataset)-time_step-1):\n",
        "    a = dataset[i:(i+time_step), 0]   ###i=0, 0,1,2,3-----99   100 means at i =0 the 0,1,2,3 elements will be going in a and in x_train the dirst 3 elemets will come and in y train the 4th element will.\n",
        "    #note: this happens only when the timestep =3, the data will change depend on your timestep\n",
        "    dataX.append(a)\n",
        "    dataY.append(dataset[i + time_step, 0])\n",
        "  return np.array(dataX), np.array(dataY)"
      ],
      "metadata": {
        "id": "6etGzxG-gBL9"
      },
      "execution_count": 16,
      "outputs": []
    },
    {
      "cell_type": "code",
      "source": [
        "# more the number of timestep more accurately the result will come\n",
        "# reshape into X=t,t+1,t+2,t+3 and Y=t+4\n",
        "time_step = 100 # here the number of timestep we consider is 100 for better prediction\n",
        "X_train, y_train = create_dataset(train_data, time_step)\n",
        "X_test, ytest = create_dataset(test_data, time_step) # call the method create_dataset()"
      ],
      "metadata": {
        "id": "Sn9P8On0h7V8"
      },
      "execution_count": 17,
      "outputs": []
    },
    {
      "cell_type": "code",
      "source": [
        "print(X_train)"
      ],
      "metadata": {
        "colab": {
          "base_uri": "https://localhost:8080/"
        },
        "id": "CO4gRJrciA-c",
        "outputId": "937262cb-b6dc-4567-fa74-a2c1dcd26df1"
      },
      "execution_count": 18,
      "outputs": [
        {
          "output_type": "stream",
          "name": "stdout",
          "text": [
            "[[0.62418301 0.62214052 0.62622549 ... 0.83455882 0.86213235 0.85273693]\n",
            " [0.62214052 0.62622549 0.63378268 ... 0.86213235 0.85273693 0.87111928]\n",
            " [0.62622549 0.63378268 0.62234477 ... 0.85273693 0.87111928 0.84497549]\n",
            " ...\n",
            " [0.26041667 0.2563317  0.24652778 ... 0.33415033 0.33986928 0.34681373]\n",
            " [0.2563317  0.24652778 0.23611111 ... 0.33986928 0.34681373 0.3500817 ]\n",
            " [0.24652778 0.23611111 0.25204248 ... 0.34681373 0.3500817  0.32618464]]\n"
          ]
        }
      ]
    },
    {
      "cell_type": "code",
      "source": [
        "print(X_train.shape), print(y_train.shape)"
      ],
      "metadata": {
        "colab": {
          "base_uri": "https://localhost:8080/"
        },
        "id": "gRxCc-7giG1L",
        "outputId": "e01bdd0c-2683-4634-f210-dca7fd27eacc"
      },
      "execution_count": 19,
      "outputs": [
        {
          "output_type": "stream",
          "name": "stdout",
          "text": [
            "(1323, 100)\n",
            "(1323,)\n"
          ]
        },
        {
          "output_type": "execute_result",
          "data": {
            "text/plain": [
              "(None, None)"
            ]
          },
          "metadata": {},
          "execution_count": 19
        }
      ]
    },
    {
      "cell_type": "code",
      "source": [
        "print(X_test.shape), print(ytest.shape)\n",
        "# 100 is showing the number of timesteps of 510 records in x_test"
      ],
      "metadata": {
        "colab": {
          "base_uri": "https://localhost:8080/"
        },
        "id": "AGXpdiZsiKVZ",
        "outputId": "6239d4f5-0816-4a73-e94a-0369ccfecc16"
      },
      "execution_count": 20,
      "outputs": [
        {
          "output_type": "stream",
          "name": "stdout",
          "text": [
            "(510, 100)\n",
            "(510,)\n"
          ]
        },
        {
          "output_type": "execute_result",
          "data": {
            "text/plain": [
              "(None, None)"
            ]
          },
          "metadata": {},
          "execution_count": 20
        }
      ]
    },
    {
      "cell_type": "code",
      "source": [
        "# reshape input to be [samples, time steps, features] which is required for LSTM\n",
        "X_train =X_train.reshape(X_train.shape[0],X_train.shape[1] , 1)\n",
        "X_test = X_test.reshape(X_test.shape[0],X_test.shape[1] , 1)\n",
        "#here we convert these array into 3d array because we need only the timestep and the nummber of feature in the training data and 1 is represnting the z -axis of 3d array.\n"
      ],
      "metadata": {
        "id": "c7W0riDRiOfC"
      },
      "execution_count": 21,
      "outputs": []
    },
    {
      "cell_type": "markdown",
      "source": [
        "# Train the model"
      ],
      "metadata": {
        "id": "_KNoHpiciczz"
      }
    },
    {
      "cell_type": "code",
      "source": [
        "### Create the Stacked LSTM model\n",
        "from tensorflow.keras.models import Sequential\n",
        "from tensorflow.keras.layers import Dense\n",
        "from tensorflow.keras.layers import LSTM\n",
        "#adding layers in LSTM\n",
        "model=Sequential()\n",
        "model.add(LSTM(50,return_sequences=True,input_shape=(100,1)))\n",
        "model.add(LSTM(50,return_sequences=True))\n",
        "model.add(LSTM(50))\n",
        "model.add(Dense(1))\n",
        "model.compile(loss='mean_squared_error',optimizer='adam')\n",
        "model.summary()"
      ],
      "metadata": {
        "colab": {
          "base_uri": "https://localhost:8080/"
        },
        "id": "Zl9eTsUUia-T",
        "outputId": "cf8d41da-ebce-45fe-d623-6a890875eaed"
      },
      "execution_count": 22,
      "outputs": [
        {
          "output_type": "stream",
          "name": "stdout",
          "text": [
            "Model: \"sequential\"\n",
            "_________________________________________________________________\n",
            " Layer (type)                Output Shape              Param #   \n",
            "=================================================================\n",
            " lstm (LSTM)                 (None, 100, 50)           10400     \n",
            "                                                                 \n",
            " lstm_1 (LSTM)               (None, 100, 50)           20200     \n",
            "                                                                 \n",
            " lstm_2 (LSTM)               (None, 50)                20200     \n",
            "                                                                 \n",
            " dense (Dense)               (None, 1)                 51        \n",
            "                                                                 \n",
            "=================================================================\n",
            "Total params: 50,851\n",
            "Trainable params: 50,851\n",
            "Non-trainable params: 0\n",
            "_________________________________________________________________\n"
          ]
        }
      ]
    },
    {
      "cell_type": "markdown",
      "source": [
        "### The batch size is a hyperparameter that defines the number of samples to work through before updating the internal model parameters.\n",
        "\n",
        "Think of a batch as a for-loop iterating over one or more samples and making predictions. At the end of the batch, the predictions are compared to the expected output variables and an error is calculated. From this error, the update algorithm is used to improve the model, e.g. move down along the error gradient.\n",
        "\n",
        "## What Is an Epoch?\n",
        "\n",
        "The number of epochs is a hyperparameter that defines the number times that the learning algorithm will work through the entire training dataset.\n",
        "\n",
        "One epoch means that each sample in the training dataset has had an opportunity to update the internal model parameters. An epoch is comprised of one or more batches. For example, as above, an epoch that has one batch is called the batch gradient descent learning algorithm.\n",
        "\n",
        "## verbose\n",
        "\n",
        "By setting verbose 0, 1 or 2 you just say how do you want to 'see' the training progress for each epoch.\n",
        "\n",
        "verbose=0 will show you nothing (silent)\n",
        "\n",
        "verbose=1 will show you an animated progress bar like this:\n",
        "\n",
        "progres_bar\n",
        "\n",
        "verbose=2 will just mention the number of epoch like this:\n",
        "\n",
        "enter image description here"
      ],
      "metadata": {
        "id": "5DkSNh6zivNZ"
      }
    },
    {
      "cell_type": "code",
      "source": [
        "model.fit(X_train,y_train,validation_data=(X_test,ytest),epochs=100,batch_size=64,verbose=1)"
      ],
      "metadata": {
        "colab": {
          "base_uri": "https://localhost:8080/"
        },
        "id": "UrPSSvltilqH",
        "outputId": "e2646220-406b-4e51-d167-7a69f402d938"
      },
      "execution_count": 23,
      "outputs": [
        {
          "output_type": "stream",
          "name": "stdout",
          "text": [
            "Epoch 1/100\n",
            "21/21 [==============================] - 19s 263ms/step - loss: 0.0170 - val_loss: 0.0064\n",
            "Epoch 2/100\n",
            "21/21 [==============================] - 4s 208ms/step - loss: 0.0021 - val_loss: 9.4925e-04\n",
            "Epoch 3/100\n",
            "21/21 [==============================] - 4s 206ms/step - loss: 0.0015 - val_loss: 0.0014\n",
            "Epoch 4/100\n",
            "21/21 [==============================] - 4s 206ms/step - loss: 0.0014 - val_loss: 0.0014\n",
            "Epoch 5/100\n",
            "21/21 [==============================] - 4s 201ms/step - loss: 0.0014 - val_loss: 0.0010\n",
            "Epoch 6/100\n",
            "21/21 [==============================] - 4s 205ms/step - loss: 0.0013 - val_loss: 8.9787e-04\n",
            "Epoch 7/100\n",
            "21/21 [==============================] - 4s 206ms/step - loss: 0.0013 - val_loss: 9.7416e-04\n",
            "Epoch 8/100\n",
            "21/21 [==============================] - 4s 202ms/step - loss: 0.0011 - val_loss: 9.7285e-04\n",
            "Epoch 9/100\n",
            "21/21 [==============================] - 6s 267ms/step - loss: 0.0011 - val_loss: 0.0010\n",
            "Epoch 10/100\n",
            "21/21 [==============================] - 4s 202ms/step - loss: 9.9081e-04 - val_loss: 0.0011\n",
            "Epoch 11/100\n",
            "21/21 [==============================] - 4s 201ms/step - loss: 0.0010 - val_loss: 8.4133e-04\n",
            "Epoch 12/100\n",
            "21/21 [==============================] - 4s 207ms/step - loss: 0.0011 - val_loss: 8.2807e-04\n",
            "Epoch 13/100\n",
            "21/21 [==============================] - 4s 207ms/step - loss: 9.4163e-04 - val_loss: 8.6993e-04\n",
            "Epoch 14/100\n",
            "21/21 [==============================] - 4s 207ms/step - loss: 8.5805e-04 - val_loss: 6.7910e-04\n",
            "Epoch 15/100\n",
            "21/21 [==============================] - 4s 201ms/step - loss: 8.4682e-04 - val_loss: 7.5126e-04\n",
            "Epoch 16/100\n",
            "21/21 [==============================] - 4s 207ms/step - loss: 8.5841e-04 - val_loss: 5.9998e-04\n",
            "Epoch 17/100\n",
            "21/21 [==============================] - 4s 207ms/step - loss: 7.6548e-04 - val_loss: 7.6909e-04\n",
            "Epoch 18/100\n",
            "21/21 [==============================] - 4s 205ms/step - loss: 7.8157e-04 - val_loss: 8.0124e-04\n",
            "Epoch 19/100\n",
            "21/21 [==============================] - 4s 208ms/step - loss: 7.3782e-04 - val_loss: 8.6869e-04\n",
            "Epoch 20/100\n",
            "21/21 [==============================] - 4s 208ms/step - loss: 7.3709e-04 - val_loss: 9.9993e-04\n",
            "Epoch 21/100\n",
            "21/21 [==============================] - 4s 208ms/step - loss: 7.3295e-04 - val_loss: 7.2152e-04\n",
            "Epoch 22/100\n",
            "21/21 [==============================] - 4s 208ms/step - loss: 7.0375e-04 - val_loss: 8.6610e-04\n",
            "Epoch 23/100\n",
            "21/21 [==============================] - 4s 207ms/step - loss: 6.9138e-04 - val_loss: 7.1029e-04\n",
            "Epoch 24/100\n",
            "21/21 [==============================] - 4s 200ms/step - loss: 6.4881e-04 - val_loss: 7.4253e-04\n",
            "Epoch 25/100\n",
            "21/21 [==============================] - 7s 350ms/step - loss: 6.7552e-04 - val_loss: 7.0025e-04\n",
            "Epoch 26/100\n",
            "21/21 [==============================] - 4s 204ms/step - loss: 6.4473e-04 - val_loss: 6.1059e-04\n",
            "Epoch 27/100\n",
            "21/21 [==============================] - 4s 204ms/step - loss: 6.2132e-04 - val_loss: 6.5731e-04\n",
            "Epoch 28/100\n",
            "21/21 [==============================] - 4s 208ms/step - loss: 6.0716e-04 - val_loss: 4.9645e-04\n",
            "Epoch 29/100\n",
            "21/21 [==============================] - 4s 208ms/step - loss: 6.9208e-04 - val_loss: 0.0011\n",
            "Epoch 30/100\n",
            "21/21 [==============================] - 4s 204ms/step - loss: 7.6572e-04 - val_loss: 5.7913e-04\n",
            "Epoch 31/100\n",
            "21/21 [==============================] - 4s 200ms/step - loss: 5.9109e-04 - val_loss: 8.3143e-04\n",
            "Epoch 32/100\n",
            "21/21 [==============================] - 4s 203ms/step - loss: 5.8173e-04 - val_loss: 7.1922e-04\n",
            "Epoch 33/100\n",
            "21/21 [==============================] - 4s 193ms/step - loss: 5.6236e-04 - val_loss: 5.5419e-04\n",
            "Epoch 34/100\n",
            "21/21 [==============================] - 4s 198ms/step - loss: 5.8988e-04 - val_loss: 6.9324e-04\n",
            "Epoch 35/100\n",
            "21/21 [==============================] - 4s 209ms/step - loss: 5.5525e-04 - val_loss: 5.8944e-04\n",
            "Epoch 36/100\n",
            "21/21 [==============================] - 4s 202ms/step - loss: 6.7493e-04 - val_loss: 5.5389e-04\n",
            "Epoch 37/100\n",
            "21/21 [==============================] - 4s 200ms/step - loss: 7.1262e-04 - val_loss: 8.4439e-04\n",
            "Epoch 38/100\n",
            "21/21 [==============================] - 4s 196ms/step - loss: 5.8967e-04 - val_loss: 6.9800e-04\n",
            "Epoch 39/100\n",
            "21/21 [==============================] - 4s 200ms/step - loss: 5.2207e-04 - val_loss: 5.7771e-04\n",
            "Epoch 40/100\n",
            "21/21 [==============================] - 4s 204ms/step - loss: 5.2844e-04 - val_loss: 4.7528e-04\n",
            "Epoch 41/100\n",
            "21/21 [==============================] - 4s 203ms/step - loss: 5.8667e-04 - val_loss: 5.1614e-04\n",
            "Epoch 42/100\n",
            "21/21 [==============================] - 4s 206ms/step - loss: 5.8662e-04 - val_loss: 5.2353e-04\n",
            "Epoch 43/100\n",
            "21/21 [==============================] - 4s 206ms/step - loss: 5.5418e-04 - val_loss: 4.0333e-04\n",
            "Epoch 44/100\n",
            "21/21 [==============================] - 4s 202ms/step - loss: 5.2799e-04 - val_loss: 6.3245e-04\n",
            "Epoch 45/100\n",
            "21/21 [==============================] - 4s 207ms/step - loss: 4.9307e-04 - val_loss: 6.3389e-04\n",
            "Epoch 46/100\n",
            "21/21 [==============================] - 4s 202ms/step - loss: 4.9923e-04 - val_loss: 5.9076e-04\n",
            "Epoch 47/100\n",
            "21/21 [==============================] - 4s 199ms/step - loss: 4.8069e-04 - val_loss: 4.6044e-04\n",
            "Epoch 48/100\n",
            "21/21 [==============================] - 4s 193ms/step - loss: 4.9865e-04 - val_loss: 4.5712e-04\n",
            "Epoch 49/100\n",
            "21/21 [==============================] - 4s 197ms/step - loss: 4.5093e-04 - val_loss: 4.9258e-04\n",
            "Epoch 50/100\n",
            "21/21 [==============================] - 4s 205ms/step - loss: 4.4916e-04 - val_loss: 3.7732e-04\n",
            "Epoch 51/100\n",
            "21/21 [==============================] - 4s 206ms/step - loss: 5.3784e-04 - val_loss: 5.0971e-04\n",
            "Epoch 52/100\n",
            "21/21 [==============================] - 4s 205ms/step - loss: 4.3589e-04 - val_loss: 4.3945e-04\n",
            "Epoch 53/100\n",
            "21/21 [==============================] - 4s 203ms/step - loss: 4.7687e-04 - val_loss: 5.1395e-04\n",
            "Epoch 54/100\n",
            "21/21 [==============================] - 4s 199ms/step - loss: 4.4855e-04 - val_loss: 4.8339e-04\n",
            "Epoch 55/100\n",
            "21/21 [==============================] - 4s 198ms/step - loss: 5.1074e-04 - val_loss: 4.0010e-04\n",
            "Epoch 56/100\n",
            "21/21 [==============================] - 4s 197ms/step - loss: 4.8070e-04 - val_loss: 3.8110e-04\n",
            "Epoch 57/100\n",
            "21/21 [==============================] - 4s 206ms/step - loss: 4.5103e-04 - val_loss: 5.1955e-04\n",
            "Epoch 58/100\n",
            "21/21 [==============================] - 4s 207ms/step - loss: 4.3630e-04 - val_loss: 3.9159e-04\n",
            "Epoch 59/100\n",
            "21/21 [==============================] - 4s 203ms/step - loss: 4.9516e-04 - val_loss: 3.8328e-04\n",
            "Epoch 60/100\n",
            "21/21 [==============================] - 4s 202ms/step - loss: 5.1465e-04 - val_loss: 5.9627e-04\n",
            "Epoch 61/100\n",
            "21/21 [==============================] - 4s 204ms/step - loss: 4.4480e-04 - val_loss: 5.5881e-04\n",
            "Epoch 62/100\n",
            "21/21 [==============================] - 4s 208ms/step - loss: 4.1879e-04 - val_loss: 3.3657e-04\n",
            "Epoch 63/100\n",
            "21/21 [==============================] - 4s 200ms/step - loss: 3.8649e-04 - val_loss: 3.0475e-04\n",
            "Epoch 64/100\n",
            "21/21 [==============================] - 4s 199ms/step - loss: 4.1802e-04 - val_loss: 5.2365e-04\n",
            "Epoch 65/100\n",
            "21/21 [==============================] - 4s 208ms/step - loss: 4.0965e-04 - val_loss: 6.0032e-04\n",
            "Epoch 66/100\n",
            "21/21 [==============================] - 4s 197ms/step - loss: 3.9546e-04 - val_loss: 5.9350e-04\n",
            "Epoch 67/100\n",
            "21/21 [==============================] - 4s 209ms/step - loss: 4.3351e-04 - val_loss: 5.5397e-04\n",
            "Epoch 68/100\n",
            "21/21 [==============================] - 4s 206ms/step - loss: 3.6217e-04 - val_loss: 4.0821e-04\n",
            "Epoch 69/100\n",
            "21/21 [==============================] - 4s 204ms/step - loss: 3.4491e-04 - val_loss: 4.0517e-04\n",
            "Epoch 70/100\n",
            "21/21 [==============================] - 4s 207ms/step - loss: 3.5400e-04 - val_loss: 2.9791e-04\n",
            "Epoch 71/100\n",
            "21/21 [==============================] - 4s 206ms/step - loss: 3.4930e-04 - val_loss: 4.2523e-04\n",
            "Epoch 72/100\n",
            "21/21 [==============================] - 4s 209ms/step - loss: 3.8623e-04 - val_loss: 4.4367e-04\n",
            "Epoch 73/100\n",
            "21/21 [==============================] - 4s 203ms/step - loss: 3.3779e-04 - val_loss: 5.2848e-04\n",
            "Epoch 74/100\n",
            "21/21 [==============================] - 4s 204ms/step - loss: 4.3440e-04 - val_loss: 3.8926e-04\n",
            "Epoch 75/100\n",
            "21/21 [==============================] - 4s 201ms/step - loss: 3.2857e-04 - val_loss: 3.6743e-04\n",
            "Epoch 76/100\n",
            "21/21 [==============================] - 4s 202ms/step - loss: 3.4465e-04 - val_loss: 4.2209e-04\n",
            "Epoch 77/100\n",
            "21/21 [==============================] - 4s 206ms/step - loss: 3.4316e-04 - val_loss: 2.6470e-04\n",
            "Epoch 78/100\n",
            "21/21 [==============================] - 4s 209ms/step - loss: 4.6599e-04 - val_loss: 2.4811e-04\n",
            "Epoch 79/100\n",
            "21/21 [==============================] - 4s 208ms/step - loss: 3.5483e-04 - val_loss: 3.1640e-04\n",
            "Epoch 80/100\n",
            "21/21 [==============================] - 4s 205ms/step - loss: 3.4582e-04 - val_loss: 3.0149e-04\n",
            "Epoch 81/100\n",
            "21/21 [==============================] - 4s 206ms/step - loss: 2.9821e-04 - val_loss: 3.2254e-04\n",
            "Epoch 82/100\n",
            "21/21 [==============================] - 4s 201ms/step - loss: 3.0309e-04 - val_loss: 3.8903e-04\n",
            "Epoch 83/100\n",
            "21/21 [==============================] - 4s 205ms/step - loss: 2.8705e-04 - val_loss: 2.9336e-04\n",
            "Epoch 84/100\n",
            "21/21 [==============================] - 4s 206ms/step - loss: 3.3180e-04 - val_loss: 3.1143e-04\n",
            "Epoch 85/100\n",
            "21/21 [==============================] - 4s 208ms/step - loss: 2.8303e-04 - val_loss: 3.1681e-04\n",
            "Epoch 86/100\n",
            "21/21 [==============================] - 4s 206ms/step - loss: 2.8081e-04 - val_loss: 2.6157e-04\n",
            "Epoch 87/100\n",
            "21/21 [==============================] - 4s 209ms/step - loss: 3.2855e-04 - val_loss: 2.4959e-04\n",
            "Epoch 88/100\n",
            "21/21 [==============================] - 4s 207ms/step - loss: 2.7506e-04 - val_loss: 2.4130e-04\n",
            "Epoch 89/100\n",
            "21/21 [==============================] - 4s 208ms/step - loss: 2.7094e-04 - val_loss: 2.6907e-04\n",
            "Epoch 90/100\n",
            "21/21 [==============================] - 4s 208ms/step - loss: 2.5538e-04 - val_loss: 2.4829e-04\n",
            "Epoch 91/100\n",
            "21/21 [==============================] - 4s 205ms/step - loss: 2.5512e-04 - val_loss: 3.0545e-04\n",
            "Epoch 92/100\n",
            "21/21 [==============================] - 4s 209ms/step - loss: 2.4370e-04 - val_loss: 2.7643e-04\n",
            "Epoch 93/100\n",
            "21/21 [==============================] - 4s 209ms/step - loss: 2.4768e-04 - val_loss: 2.4078e-04\n",
            "Epoch 94/100\n",
            "21/21 [==============================] - 4s 204ms/step - loss: 2.9698e-04 - val_loss: 2.0479e-04\n",
            "Epoch 95/100\n",
            "21/21 [==============================] - 4s 206ms/step - loss: 2.8921e-04 - val_loss: 2.3831e-04\n",
            "Epoch 96/100\n",
            "21/21 [==============================] - 4s 207ms/step - loss: 2.5983e-04 - val_loss: 2.2850e-04\n",
            "Epoch 97/100\n",
            "21/21 [==============================] - 4s 208ms/step - loss: 2.3956e-04 - val_loss: 2.5632e-04\n",
            "Epoch 98/100\n",
            "21/21 [==============================] - 4s 208ms/step - loss: 3.2161e-04 - val_loss: 2.5866e-04\n",
            "Epoch 99/100\n",
            "21/21 [==============================] - 4s 209ms/step - loss: 2.9888e-04 - val_loss: 2.7671e-04\n",
            "Epoch 100/100\n",
            "21/21 [==============================] - 4s 209ms/step - loss: 2.8958e-04 - val_loss: 2.9937e-04\n"
          ]
        },
        {
          "output_type": "execute_result",
          "data": {
            "text/plain": [
              "<keras.callbacks.History at 0x7efe4c1fda10>"
            ]
          },
          "metadata": {},
          "execution_count": 23
        }
      ]
    },
    {
      "cell_type": "code",
      "source": [
        "import tensorflow as tf\n",
        "### Lets Do the prediction and check performance metrics\n",
        "train_predict=model.predict(X_train)\n",
        "test_predict=model.predict(X_test)\n",
        "##Transformback to original form\n",
        "train_predict=scaler.inverse_transform(train_predict)\n",
        "test_predict=scaler.inverse_transform(test_predict)"
      ],
      "metadata": {
        "id": "OM22QCTNjAA3"
      },
      "execution_count": 24,
      "outputs": []
    },
    {
      "cell_type": "code",
      "source": [
        "### Calculate RMSE performance metrics for our training data\n",
        "import math\n",
        "from sklearn.metrics import mean_squared_error\n",
        "math.sqrt(mean_squared_error(y_train,train_predict))"
      ],
      "metadata": {
        "colab": {
          "base_uri": "https://localhost:8080/"
        },
        "id": "ryAHwlIBk1_f",
        "outputId": "5e4eaeba-48eb-427a-8ea0-ed9964abf143"
      },
      "execution_count": 25,
      "outputs": [
        {
          "output_type": "execute_result",
          "data": {
            "text/plain": [
              "165.92204408598118"
            ]
          },
          "metadata": {},
          "execution_count": 25
        }
      ]
    },
    {
      "cell_type": "code",
      "source": [
        "### Test Data RMSE\n",
        "math.sqrt(mean_squared_error(ytest,test_predict))"
      ],
      "metadata": {
        "colab": {
          "base_uri": "https://localhost:8080/"
        },
        "id": "6CM9BqrJk8aZ",
        "outputId": "080971d6-dbec-4eda-85e8-693680aba975"
      },
      "execution_count": 26,
      "outputs": [
        {
          "output_type": "execute_result",
          "data": {
            "text/plain": [
              "108.96793056942464"
            ]
          },
          "metadata": {},
          "execution_count": 26
        }
      ]
    },
    {
      "cell_type": "code",
      "source": [
        "#Predict the test data and plot the output\n",
        "# shift train predictions for plotting\n",
        "look_back=100 #size of timesteps\n",
        "trainPredictPlot = np.empty_like(df_close)\n",
        "trainPredictPlot[:, :] = np.nan\n",
        "trainPredictPlot[look_back:len(train_predict)+look_back, :] = train_predict\n",
        "# shift test predictions for plotting\n",
        "testPredictPlot = np.empty_like(df_close)\n",
        "testPredictPlot[:, :] = np.nan\n",
        "testPredictPlot[len(train_predict)+(look_back*2)+1:len(df_close)-1, :] = test_predict\n",
        "# plot baseline and predictions\n",
        "plt.plot(scaler.inverse_transform(df_close))\n",
        "plt.plot(trainPredictPlot)\n",
        "plt.plot(testPredictPlot)\n",
        "plt.show()"
      ],
      "metadata": {
        "colab": {
          "base_uri": "https://localhost:8080/",
          "height": 265
        },
        "id": "Lmhlu6-elBgc",
        "outputId": "d8e34a18-6ab8-4146-d0b2-fa94d5cfa40d"
      },
      "execution_count": 28,
      "outputs": [
        {
          "output_type": "display_data",
          "data": {
            "image/png": "[encoded data removed]",
            "text/plain": [
              "<Figure size 432x288 with 1 Axes>"
            ]
          },
          "metadata": {
            "needs_background": "light"
          }
        }
      ]
    },
    {
      "cell_type": "markdown",
      "source": [
        "here orange color define the traing data and green color define the output data or prediction data from test data\n",
        "\n",
        "Now lets predict the output for next 30 days.For this first calculate the length of the test data. for example suppose the last date of the test data is 22May and now I want to predict for 23 May so we want last 100 data (for timesteps) for our new prediction."
      ],
      "metadata": {
        "id": "FxZfCnaoldyr"
      }
    },
    {
      "cell_type": "code",
      "source": [
        "len(test_data)"
      ],
      "metadata": {
        "colab": {
          "base_uri": "https://localhost:8080/"
        },
        "id": "4PdlGqrZlHHV",
        "outputId": "842498aa-f1e0-4f42-8271-146985e56ab3"
      },
      "execution_count": 29,
      "outputs": [
        {
          "output_type": "execute_result",
          "data": {
            "text/plain": [
              "611"
            ]
          },
          "metadata": {},
          "execution_count": 29
        }
      ]
    },
    {
      "cell_type": "markdown",
      "source": [
        "here the length is 611 so we will take data from 511"
      ],
      "metadata": {
        "id": "cUGdSIANlpyp"
      }
    },
    {
      "cell_type": "code",
      "source": [
        "x_input=test_data[511:].reshape(1,-1)\n",
        "x_input.shape"
      ],
      "metadata": {
        "colab": {
          "base_uri": "https://localhost:8080/"
        },
        "id": "brwp66Lzligh",
        "outputId": "fdeb2035-53c5-4e9b-ae17-faba9c6553c5"
      },
      "execution_count": 30,
      "outputs": [
        {
          "output_type": "execute_result",
          "data": {
            "text/plain": [
              "(1, 100)"
            ]
          },
          "metadata": {},
          "execution_count": 30
        }
      ]
    },
    {
      "cell_type": "code",
      "source": [
        "temp_input=list(x_input) # convert all the input of x_input into a lists and extract previous 100 data from test_data\n",
        "temp_input=temp_input[0].tolist()\n",
        "temp_input"
      ],
      "metadata": {
        "colab": {
          "base_uri": "https://localhost:8080/"
        },
        "id": "VOv1-VGOl0qB",
        "outputId": "e919f651-427f-4e62-d87d-35749dc77ac3"
      },
      "execution_count": 31,
      "outputs": [
        {
          "output_type": "execute_result",
          "data": {
            "text/plain": [
              "[0.12479575163398693,\n",
              " 0.1384803921568627,\n",
              " 0.14011437908496732,\n",
              " 0.1388888888888889,\n",
              " 0.13541666666666663,\n",
              " 0.14011437908496732,\n",
              " 0.13807189542483655,\n",
              " 0.130718954248366,\n",
              " 0.130718954248366,\n",
              " 0.12867647058823528,\n",
              " 0.11846405228758167,\n",
              " 0.14644607843137253,\n",
              " 0.1480800653594771,\n",
              " 0.159109477124183,\n",
              " 0.15992647058823523,\n",
              " 0.1578839869281045,\n",
              " 0.16441993464052285,\n",
              " 0.178921568627451,\n",
              " 0.17933006535947704,\n",
              " 0.19260620915032678,\n",
              " 0.2081290849673203,\n",
              " 0.18974673202614378,\n",
              " 0.18055555555555558,\n",
              " 0.1823937908496731,\n",
              " 0.17708333333333326,\n",
              " 0.17810457516339862,\n",
              " 0.18055555555555558,\n",
              " 0.17810457516339862,\n",
              " 0.17851307189542487,\n",
              " 0.196078431372549,\n",
              " 0.18913398692810457,\n",
              " 0.1895424836601307,\n",
              " 0.19403594771241828,\n",
              " 0.19444444444444442,\n",
              " 0.20200163398692816,\n",
              " 0.19771241830065356,\n",
              " 0.19934640522875813,\n",
              " 0.19873366013071891,\n",
              " 0.19975490196078427,\n",
              " 0.21282679738562094,\n",
              " 0.21568627450980393,\n",
              " 0.2044526143790849,\n",
              " 0.21772875816993464,\n",
              " 0.21098856209150318,\n",
              " 0.21425653594771243,\n",
              " 0.1975081699346406,\n",
              " 0.1881127450980392,\n",
              " 0.17851307189542487,\n",
              " 0.17381535947712412,\n",
              " 0.16033496732026142,\n",
              " 0.16564542483660127,\n",
              " 0.1711601307189542,\n",
              " 0.17422385620915026,\n",
              " 0.1803513071895424,\n",
              " 0.1740196078431372,\n",
              " 0.16278594771241828,\n",
              " 0.1697303921568627,\n",
              " 0.17810457516339862,\n",
              " 0.1703431372549019,\n",
              " 0.16830065359477125,\n",
              " 0.17279411764705876,\n",
              " 0.1754493464052288,\n",
              " 0.18382352941176472,\n",
              " 0.19138071895424835,\n",
              " 0.18913398692810457,\n",
              " 0.1909722222222222,\n",
              " 0.17238562091503273,\n",
              " 0.16830065359477125,\n",
              " 0.16932189542483655,\n",
              " 0.1717728758169934,\n",
              " 0.16156045751633985,\n",
              " 0.14971405228758167,\n",
              " 0.15032679738562088,\n",
              " 0.1519607843137255,\n",
              " 0.1472630718954248,\n",
              " 0.14501633986928103,\n",
              " 0.14603758169934639,\n",
              " 0.12479575163398693,\n",
              " 0.13112745098039214,\n",
              " 0.11397058823529405,\n",
              " 0.11907679738562088,\n",
              " 0.12377450980392157,\n",
              " 0.13562091503267976,\n",
              " 0.12908496732026142,\n",
              " 0.1345996732026144,\n",
              " 0.12806372549019607,\n",
              " 0.13031045751633985,\n",
              " 0.12724673202614373,\n",
              " 0.13521241830065356,\n",
              " 0.1452205882352941,\n",
              " 0.15257352941176466,\n",
              " 0.14848856209150324,\n",
              " 0.14338235294117646,\n",
              " 0.14562908496732024,\n",
              " 0.1523692810457516,\n",
              " 0.15400326797385622,\n",
              " 0.14971405228758167,\n",
              " 0.16217320261437906,\n",
              " 0.16319444444444448,\n",
              " 0.16584967320261434]"
            ]
          },
          "metadata": {},
          "execution_count": 31
        }
      ]
    },
    {
      "cell_type": "code",
      "source": [
        "# demonstrate prediction for next 30 days\n",
        "'''In this what we are doing is that we predict the values for 30 days with the help of while loop and first of all it will go to the else condition because initially\n",
        "we have 100 data values and in else part we give new data to our trained model and then add predicted value in our test_input list and then it will go in if condition \n",
        "because now the values will 101 and then again it will give the values to model and predict new value and do this for 30 times.'''\n",
        "from numpy import array\n",
        "\n",
        "lst_output=[]\n",
        "n_steps=100\n",
        "i=0\n",
        "while(i<30):\n",
        "    \n",
        "    if(len(temp_input)>100):\n",
        "        #print(temp_input)\n",
        "        x_input=np.array(temp_input[1:])\n",
        "        print(\"{} day input {}\".format(i,x_input))\n",
        "        x_input=x_input.reshape(1,-1)\n",
        "        x_input = x_input.reshape((1, n_steps, 1))\n",
        "        #print(x_input)\n",
        "        yhat = model.predict(x_input, verbose=0)\n",
        "        print(\"{} day output {}\".format(i,yhat))\n",
        "        temp_input.extend(yhat[0].tolist())\n",
        "        temp_input=temp_input[1:]\n",
        "        #print(temp_input)\n",
        "        lst_output.extend(yhat.tolist())\n",
        "        i=i+1\n",
        "    else:\n",
        "        x_input = x_input.reshape((1, n_steps,1))\n",
        "        yhat = model.predict(x_input, verbose=0)\n",
        "        print(yhat[0])\n",
        "        temp_input.extend(yhat[0].tolist())\n",
        "        print(len(temp_input))\n",
        "        lst_output.extend(yhat.tolist())\n",
        "        i=i+1\n",
        "    \n",
        "\n",
        "print(lst_output)"
      ],
      "metadata": {
        "colab": {
          "base_uri": "https://localhost:8080/"
        },
        "id": "NaDUme4gl5qv",
        "outputId": "eefe2af0-a8e8-4b94-f86d-a7a754256248"
      },
      "execution_count": 32,
      "outputs": [
        {
          "output_type": "stream",
          "name": "stdout",
          "text": [
            "[0.16913886]\n",
            "101\n",
            "1 day input [0.13848039 0.14011438 0.13888889 0.13541667 0.14011438 0.1380719\n",
            " 0.13071895 0.13071895 0.12867647 0.11846405 0.14644608 0.14808007\n",
            " 0.15910948 0.15992647 0.15788399 0.16441993 0.17892157 0.17933007\n",
            " 0.19260621 0.20812908 0.18974673 0.18055556 0.18239379 0.17708333\n",
            " 0.17810458 0.18055556 0.17810458 0.17851307 0.19607843 0.18913399\n",
            " 0.18954248 0.19403595 0.19444444 0.20200163 0.19771242 0.19934641\n",
            " 0.19873366 0.1997549  0.2128268  0.21568627 0.20445261 0.21772876\n",
            " 0.21098856 0.21425654 0.19750817 0.18811275 0.17851307 0.17381536\n",
            " 0.16033497 0.16564542 0.17116013 0.17422386 0.18035131 0.17401961\n",
            " 0.16278595 0.16973039 0.17810458 0.17034314 0.16830065 0.17279412\n",
            " 0.17544935 0.18382353 0.19138072 0.18913399 0.19097222 0.17238562\n",
            " 0.16830065 0.1693219  0.17177288 0.16156046 0.14971405 0.1503268\n",
            " 0.15196078 0.14726307 0.14501634 0.14603758 0.12479575 0.13112745\n",
            " 0.11397059 0.1190768  0.12377451 0.13562092 0.12908497 0.13459967\n",
            " 0.12806373 0.13031046 0.12724673 0.13521242 0.14522059 0.15257353\n",
            " 0.14848856 0.14338235 0.14562908 0.15236928 0.15400327 0.14971405\n",
            " 0.1621732  0.16319444 0.16584967 0.16913886]\n",
            "1 day output [[0.17255448]]\n",
            "2 day input [0.14011438 0.13888889 0.13541667 0.14011438 0.1380719  0.13071895\n",
            " 0.13071895 0.12867647 0.11846405 0.14644608 0.14808007 0.15910948\n",
            " 0.15992647 0.15788399 0.16441993 0.17892157 0.17933007 0.19260621\n",
            " 0.20812908 0.18974673 0.18055556 0.18239379 0.17708333 0.17810458\n",
            " 0.18055556 0.17810458 0.17851307 0.19607843 0.18913399 0.18954248\n",
            " 0.19403595 0.19444444 0.20200163 0.19771242 0.19934641 0.19873366\n",
            " 0.1997549  0.2128268  0.21568627 0.20445261 0.21772876 0.21098856\n",
            " 0.21425654 0.19750817 0.18811275 0.17851307 0.17381536 0.16033497\n",
            " 0.16564542 0.17116013 0.17422386 0.18035131 0.17401961 0.16278595\n",
            " 0.16973039 0.17810458 0.17034314 0.16830065 0.17279412 0.17544935\n",
            " 0.18382353 0.19138072 0.18913399 0.19097222 0.17238562 0.16830065\n",
            " 0.1693219  0.17177288 0.16156046 0.14971405 0.1503268  0.15196078\n",
            " 0.14726307 0.14501634 0.14603758 0.12479575 0.13112745 0.11397059\n",
            " 0.1190768  0.12377451 0.13562092 0.12908497 0.13459967 0.12806373\n",
            " 0.13031046 0.12724673 0.13521242 0.14522059 0.15257353 0.14848856\n",
            " 0.14338235 0.14562908 0.15236928 0.15400327 0.14971405 0.1621732\n",
            " 0.16319444 0.16584967 0.16913886 0.17255448]\n",
            "2 day output [[0.17571178]]\n",
            "3 day input [0.13888889 0.13541667 0.14011438 0.1380719  0.13071895 0.13071895\n",
            " 0.12867647 0.11846405 0.14644608 0.14808007 0.15910948 0.15992647\n",
            " 0.15788399 0.16441993 0.17892157 0.17933007 0.19260621 0.20812908\n",
            " 0.18974673 0.18055556 0.18239379 0.17708333 0.17810458 0.18055556\n",
            " 0.17810458 0.17851307 0.19607843 0.18913399 0.18954248 0.19403595\n",
            " 0.19444444 0.20200163 0.19771242 0.19934641 0.19873366 0.1997549\n",
            " 0.2128268  0.21568627 0.20445261 0.21772876 0.21098856 0.21425654\n",
            " 0.19750817 0.18811275 0.17851307 0.17381536 0.16033497 0.16564542\n",
            " 0.17116013 0.17422386 0.18035131 0.17401961 0.16278595 0.16973039\n",
            " 0.17810458 0.17034314 0.16830065 0.17279412 0.17544935 0.18382353\n",
            " 0.19138072 0.18913399 0.19097222 0.17238562 0.16830065 0.1693219\n",
            " 0.17177288 0.16156046 0.14971405 0.1503268  0.15196078 0.14726307\n",
            " 0.14501634 0.14603758 0.12479575 0.13112745 0.11397059 0.1190768\n",
            " 0.12377451 0.13562092 0.12908497 0.13459967 0.12806373 0.13031046\n",
            " 0.12724673 0.13521242 0.14522059 0.15257353 0.14848856 0.14338235\n",
            " 0.14562908 0.15236928 0.15400327 0.14971405 0.1621732  0.16319444\n",
            " 0.16584967 0.16913886 0.17255448 0.17571178]\n",
            "3 day output [[0.17868207]]\n",
            "4 day input [0.13541667 0.14011438 0.1380719  0.13071895 0.13071895 0.12867647\n",
            " 0.11846405 0.14644608 0.14808007 0.15910948 0.15992647 0.15788399\n",
            " 0.16441993 0.17892157 0.17933007 0.19260621 0.20812908 0.18974673\n",
            " 0.18055556 0.18239379 0.17708333 0.17810458 0.18055556 0.17810458\n",
            " 0.17851307 0.19607843 0.18913399 0.18954248 0.19403595 0.19444444\n",
            " 0.20200163 0.19771242 0.19934641 0.19873366 0.1997549  0.2128268\n",
            " 0.21568627 0.20445261 0.21772876 0.21098856 0.21425654 0.19750817\n",
            " 0.18811275 0.17851307 0.17381536 0.16033497 0.16564542 0.17116013\n",
            " 0.17422386 0.18035131 0.17401961 0.16278595 0.16973039 0.17810458\n",
            " 0.17034314 0.16830065 0.17279412 0.17544935 0.18382353 0.19138072\n",
            " 0.18913399 0.19097222 0.17238562 0.16830065 0.1693219  0.17177288\n",
            " 0.16156046 0.14971405 0.1503268  0.15196078 0.14726307 0.14501634\n",
            " 0.14603758 0.12479575 0.13112745 0.11397059 0.1190768  0.12377451\n",
            " 0.13562092 0.12908497 0.13459967 0.12806373 0.13031046 0.12724673\n",
            " 0.13521242 0.14522059 0.15257353 0.14848856 0.14338235 0.14562908\n",
            " 0.15236928 0.15400327 0.14971405 0.1621732  0.16319444 0.16584967\n",
            " 0.16913886 0.17255448 0.17571178 0.17868207]\n",
            "4 day output [[0.18149555]]\n",
            "5 day input [0.14011438 0.1380719  0.13071895 0.13071895 0.12867647 0.11846405\n",
            " 0.14644608 0.14808007 0.15910948 0.15992647 0.15788399 0.16441993\n",
            " 0.17892157 0.17933007 0.19260621 0.20812908 0.18974673 0.18055556\n",
            " 0.18239379 0.17708333 0.17810458 0.18055556 0.17810458 0.17851307\n",
            " 0.19607843 0.18913399 0.18954248 0.19403595 0.19444444 0.20200163\n",
            " 0.19771242 0.19934641 0.19873366 0.1997549  0.2128268  0.21568627\n",
            " 0.20445261 0.21772876 0.21098856 0.21425654 0.19750817 0.18811275\n",
            " 0.17851307 0.17381536 0.16033497 0.16564542 0.17116013 0.17422386\n",
            " 0.18035131 0.17401961 0.16278595 0.16973039 0.17810458 0.17034314\n",
            " 0.16830065 0.17279412 0.17544935 0.18382353 0.19138072 0.18913399\n",
            " 0.19097222 0.17238562 0.16830065 0.1693219  0.17177288 0.16156046\n",
            " 0.14971405 0.1503268  0.15196078 0.14726307 0.14501634 0.14603758\n",
            " 0.12479575 0.13112745 0.11397059 0.1190768  0.12377451 0.13562092\n",
            " 0.12908497 0.13459967 0.12806373 0.13031046 0.12724673 0.13521242\n",
            " 0.14522059 0.15257353 0.14848856 0.14338235 0.14562908 0.15236928\n",
            " 0.15400327 0.14971405 0.1621732  0.16319444 0.16584967 0.16913886\n",
            " 0.17255448 0.17571178 0.17868207 0.18149555]\n",
            "5 day output [[0.18416724]]\n",
            "6 day input [0.1380719  0.13071895 0.13071895 0.12867647 0.11846405 0.14644608\n",
            " 0.14808007 0.15910948 0.15992647 0.15788399 0.16441993 0.17892157\n",
            " 0.17933007 0.19260621 0.20812908 0.18974673 0.18055556 0.18239379\n",
            " 0.17708333 0.17810458 0.18055556 0.17810458 0.17851307 0.19607843\n",
            " 0.18913399 0.18954248 0.19403595 0.19444444 0.20200163 0.19771242\n",
            " 0.19934641 0.19873366 0.1997549  0.2128268  0.21568627 0.20445261\n",
            " 0.21772876 0.21098856 0.21425654 0.19750817 0.18811275 0.17851307\n",
            " 0.17381536 0.16033497 0.16564542 0.17116013 0.17422386 0.18035131\n",
            " 0.17401961 0.16278595 0.16973039 0.17810458 0.17034314 0.16830065\n",
            " 0.17279412 0.17544935 0.18382353 0.19138072 0.18913399 0.19097222\n",
            " 0.17238562 0.16830065 0.1693219  0.17177288 0.16156046 0.14971405\n",
            " 0.1503268  0.15196078 0.14726307 0.14501634 0.14603758 0.12479575\n",
            " 0.13112745 0.11397059 0.1190768  0.12377451 0.13562092 0.12908497\n",
            " 0.13459967 0.12806373 0.13031046 0.12724673 0.13521242 0.14522059\n",
            " 0.15257353 0.14848856 0.14338235 0.14562908 0.15236928 0.15400327\n",
            " 0.14971405 0.1621732  0.16319444 0.16584967 0.16913886 0.17255448\n",
            " 0.17571178 0.17868207 0.18149555 0.18416724]\n",
            "6 day output [[0.18671171]]\n",
            "7 day input [0.13071895 0.13071895 0.12867647 0.11846405 0.14644608 0.14808007\n",
            " 0.15910948 0.15992647 0.15788399 0.16441993 0.17892157 0.17933007\n",
            " 0.19260621 0.20812908 0.18974673 0.18055556 0.18239379 0.17708333\n",
            " 0.17810458 0.18055556 0.17810458 0.17851307 0.19607843 0.18913399\n",
            " 0.18954248 0.19403595 0.19444444 0.20200163 0.19771242 0.19934641\n",
            " 0.19873366 0.1997549  0.2128268  0.21568627 0.20445261 0.21772876\n",
            " 0.21098856 0.21425654 0.19750817 0.18811275 0.17851307 0.17381536\n",
            " 0.16033497 0.16564542 0.17116013 0.17422386 0.18035131 0.17401961\n",
            " 0.16278595 0.16973039 0.17810458 0.17034314 0.16830065 0.17279412\n",
            " 0.17544935 0.18382353 0.19138072 0.18913399 0.19097222 0.17238562\n",
            " 0.16830065 0.1693219  0.17177288 0.16156046 0.14971405 0.1503268\n",
            " 0.15196078 0.14726307 0.14501634 0.14603758 0.12479575 0.13112745\n",
            " 0.11397059 0.1190768  0.12377451 0.13562092 0.12908497 0.13459967\n",
            " 0.12806373 0.13031046 0.12724673 0.13521242 0.14522059 0.15257353\n",
            " 0.14848856 0.14338235 0.14562908 0.15236928 0.15400327 0.14971405\n",
            " 0.1621732  0.16319444 0.16584967 0.16913886 0.17255448 0.17571178\n",
            " 0.17868207 0.18149555 0.18416724 0.18671171]\n",
            "7 day output [[0.18914576]]\n",
            "8 day input [0.13071895 0.12867647 0.11846405 0.14644608 0.14808007 0.15910948\n",
            " 0.15992647 0.15788399 0.16441993 0.17892157 0.17933007 0.19260621\n",
            " 0.20812908 0.18974673 0.18055556 0.18239379 0.17708333 0.17810458\n",
            " 0.18055556 0.17810458 0.17851307 0.19607843 0.18913399 0.18954248\n",
            " 0.19403595 0.19444444 0.20200163 0.19771242 0.19934641 0.19873366\n",
            " 0.1997549  0.2128268  0.21568627 0.20445261 0.21772876 0.21098856\n",
            " 0.21425654 0.19750817 0.18811275 0.17851307 0.17381536 0.16033497\n",
            " 0.16564542 0.17116013 0.17422386 0.18035131 0.17401961 0.16278595\n",
            " 0.16973039 0.17810458 0.17034314 0.16830065 0.17279412 0.17544935\n",
            " 0.18382353 0.19138072 0.18913399 0.19097222 0.17238562 0.16830065\n",
            " 0.1693219  0.17177288 0.16156046 0.14971405 0.1503268  0.15196078\n",
            " 0.14726307 0.14501634 0.14603758 0.12479575 0.13112745 0.11397059\n",
            " 0.1190768  0.12377451 0.13562092 0.12908497 0.13459967 0.12806373\n",
            " 0.13031046 0.12724673 0.13521242 0.14522059 0.15257353 0.14848856\n",
            " 0.14338235 0.14562908 0.15236928 0.15400327 0.14971405 0.1621732\n",
            " 0.16319444 0.16584967 0.16913886 0.17255448 0.17571178 0.17868207\n",
            " 0.18149555 0.18416724 0.18671171 0.18914576]\n",
            "8 day output [[0.19148736]]\n",
            "9 day input [0.12867647 0.11846405 0.14644608 0.14808007 0.15910948 0.15992647\n",
            " 0.15788399 0.16441993 0.17892157 0.17933007 0.19260621 0.20812908\n",
            " 0.18974673 0.18055556 0.18239379 0.17708333 0.17810458 0.18055556\n",
            " 0.17810458 0.17851307 0.19607843 0.18913399 0.18954248 0.19403595\n",
            " 0.19444444 0.20200163 0.19771242 0.19934641 0.19873366 0.1997549\n",
            " 0.2128268  0.21568627 0.20445261 0.21772876 0.21098856 0.21425654\n",
            " 0.19750817 0.18811275 0.17851307 0.17381536 0.16033497 0.16564542\n",
            " 0.17116013 0.17422386 0.18035131 0.17401961 0.16278595 0.16973039\n",
            " 0.17810458 0.17034314 0.16830065 0.17279412 0.17544935 0.18382353\n",
            " 0.19138072 0.18913399 0.19097222 0.17238562 0.16830065 0.1693219\n",
            " 0.17177288 0.16156046 0.14971405 0.1503268  0.15196078 0.14726307\n",
            " 0.14501634 0.14603758 0.12479575 0.13112745 0.11397059 0.1190768\n",
            " 0.12377451 0.13562092 0.12908497 0.13459967 0.12806373 0.13031046\n",
            " 0.12724673 0.13521242 0.14522059 0.15257353 0.14848856 0.14338235\n",
            " 0.14562908 0.15236928 0.15400327 0.14971405 0.1621732  0.16319444\n",
            " 0.16584967 0.16913886 0.17255448 0.17571178 0.17868207 0.18149555\n",
            " 0.18416724 0.18671171 0.18914576 0.19148736]\n",
            "9 day output [[0.19375357]]\n",
            "10 day input [0.11846405 0.14644608 0.14808007 0.15910948 0.15992647 0.15788399\n",
            " 0.16441993 0.17892157 0.17933007 0.19260621 0.20812908 0.18974673\n",
            " 0.18055556 0.18239379 0.17708333 0.17810458 0.18055556 0.17810458\n",
            " 0.17851307 0.19607843 0.18913399 0.18954248 0.19403595 0.19444444\n",
            " 0.20200163 0.19771242 0.19934641 0.19873366 0.1997549  0.2128268\n",
            " 0.21568627 0.20445261 0.21772876 0.21098856 0.21425654 0.19750817\n",
            " 0.18811275 0.17851307 0.17381536 0.16033497 0.16564542 0.17116013\n",
            " 0.17422386 0.18035131 0.17401961 0.16278595 0.16973039 0.17810458\n",
            " 0.17034314 0.16830065 0.17279412 0.17544935 0.18382353 0.19138072\n",
            " 0.18913399 0.19097222 0.17238562 0.16830065 0.1693219  0.17177288\n",
            " 0.16156046 0.14971405 0.1503268  0.15196078 0.14726307 0.14501634\n",
            " 0.14603758 0.12479575 0.13112745 0.11397059 0.1190768  0.12377451\n",
            " 0.13562092 0.12908497 0.13459967 0.12806373 0.13031046 0.12724673\n",
            " 0.13521242 0.14522059 0.15257353 0.14848856 0.14338235 0.14562908\n",
            " 0.15236928 0.15400327 0.14971405 0.1621732  0.16319444 0.16584967\n",
            " 0.16913886 0.17255448 0.17571178 0.17868207 0.18149555 0.18416724\n",
            " 0.18671171 0.18914576 0.19148736 0.19375357]\n",
            "10 day output [[0.19595934]]\n",
            "11 day input [0.14644608 0.14808007 0.15910948 0.15992647 0.15788399 0.16441993\n",
            " 0.17892157 0.17933007 0.19260621 0.20812908 0.18974673 0.18055556\n",
            " 0.18239379 0.17708333 0.17810458 0.18055556 0.17810458 0.17851307\n",
            " 0.19607843 0.18913399 0.18954248 0.19403595 0.19444444 0.20200163\n",
            " 0.19771242 0.19934641 0.19873366 0.1997549  0.2128268  0.21568627\n",
            " 0.20445261 0.21772876 0.21098856 0.21425654 0.19750817 0.18811275\n",
            " 0.17851307 0.17381536 0.16033497 0.16564542 0.17116013 0.17422386\n",
            " 0.18035131 0.17401961 0.16278595 0.16973039 0.17810458 0.17034314\n",
            " 0.16830065 0.17279412 0.17544935 0.18382353 0.19138072 0.18913399\n",
            " 0.19097222 0.17238562 0.16830065 0.1693219  0.17177288 0.16156046\n",
            " 0.14971405 0.1503268  0.15196078 0.14726307 0.14501634 0.14603758\n",
            " 0.12479575 0.13112745 0.11397059 0.1190768  0.12377451 0.13562092\n",
            " 0.12908497 0.13459967 0.12806373 0.13031046 0.12724673 0.13521242\n",
            " 0.14522059 0.15257353 0.14848856 0.14338235 0.14562908 0.15236928\n",
            " 0.15400327 0.14971405 0.1621732  0.16319444 0.16584967 0.16913886\n",
            " 0.17255448 0.17571178 0.17868207 0.18149555 0.18416724 0.18671171\n",
            " 0.18914576 0.19148736 0.19375357 0.19595934]\n",
            "11 day output [[0.19811673]]\n",
            "12 day input [0.14808007 0.15910948 0.15992647 0.15788399 0.16441993 0.17892157\n",
            " 0.17933007 0.19260621 0.20812908 0.18974673 0.18055556 0.18239379\n",
            " 0.17708333 0.17810458 0.18055556 0.17810458 0.17851307 0.19607843\n",
            " 0.18913399 0.18954248 0.19403595 0.19444444 0.20200163 0.19771242\n",
            " 0.19934641 0.19873366 0.1997549  0.2128268  0.21568627 0.20445261\n",
            " 0.21772876 0.21098856 0.21425654 0.19750817 0.18811275 0.17851307\n",
            " 0.17381536 0.16033497 0.16564542 0.17116013 0.17422386 0.18035131\n",
            " 0.17401961 0.16278595 0.16973039 0.17810458 0.17034314 0.16830065\n",
            " 0.17279412 0.17544935 0.18382353 0.19138072 0.18913399 0.19097222\n",
            " 0.17238562 0.16830065 0.1693219  0.17177288 0.16156046 0.14971405\n",
            " 0.1503268  0.15196078 0.14726307 0.14501634 0.14603758 0.12479575\n",
            " 0.13112745 0.11397059 0.1190768  0.12377451 0.13562092 0.12908497\n",
            " 0.13459967 0.12806373 0.13031046 0.12724673 0.13521242 0.14522059\n",
            " 0.15257353 0.14848856 0.14338235 0.14562908 0.15236928 0.15400327\n",
            " 0.14971405 0.1621732  0.16319444 0.16584967 0.16913886 0.17255448\n",
            " 0.17571178 0.17868207 0.18149555 0.18416724 0.18671171 0.18914576\n",
            " 0.19148736 0.19375357 0.19595934 0.19811673]\n",
            "12 day output [[0.2002348]]\n",
            "13 day input [0.15910948 0.15992647 0.15788399 0.16441993 0.17892157 0.17933007\n",
            " 0.19260621 0.20812908 0.18974673 0.18055556 0.18239379 0.17708333\n",
            " 0.17810458 0.18055556 0.17810458 0.17851307 0.19607843 0.18913399\n",
            " 0.18954248 0.19403595 0.19444444 0.20200163 0.19771242 0.19934641\n",
            " 0.19873366 0.1997549  0.2128268  0.21568627 0.20445261 0.21772876\n",
            " 0.21098856 0.21425654 0.19750817 0.18811275 0.17851307 0.17381536\n",
            " 0.16033497 0.16564542 0.17116013 0.17422386 0.18035131 0.17401961\n",
            " 0.16278595 0.16973039 0.17810458 0.17034314 0.16830065 0.17279412\n",
            " 0.17544935 0.18382353 0.19138072 0.18913399 0.19097222 0.17238562\n",
            " 0.16830065 0.1693219  0.17177288 0.16156046 0.14971405 0.1503268\n",
            " 0.15196078 0.14726307 0.14501634 0.14603758 0.12479575 0.13112745\n",
            " 0.11397059 0.1190768  0.12377451 0.13562092 0.12908497 0.13459967\n",
            " 0.12806373 0.13031046 0.12724673 0.13521242 0.14522059 0.15257353\n",
            " 0.14848856 0.14338235 0.14562908 0.15236928 0.15400327 0.14971405\n",
            " 0.1621732  0.16319444 0.16584967 0.16913886 0.17255448 0.17571178\n",
            " 0.17868207 0.18149555 0.18416724 0.18671171 0.18914576 0.19148736\n",
            " 0.19375357 0.19595934 0.19811673 0.2002348 ]\n",
            "13 day output [[0.20231995]]\n",
            "14 day input [0.15992647 0.15788399 0.16441993 0.17892157 0.17933007 0.19260621\n",
            " 0.20812908 0.18974673 0.18055556 0.18239379 0.17708333 0.17810458\n",
            " 0.18055556 0.17810458 0.17851307 0.19607843 0.18913399 0.18954248\n",
            " 0.19403595 0.19444444 0.20200163 0.19771242 0.19934641 0.19873366\n",
            " 0.1997549  0.2128268  0.21568627 0.20445261 0.21772876 0.21098856\n",
            " 0.21425654 0.19750817 0.18811275 0.17851307 0.17381536 0.16033497\n",
            " 0.16564542 0.17116013 0.17422386 0.18035131 0.17401961 0.16278595\n",
            " 0.16973039 0.17810458 0.17034314 0.16830065 0.17279412 0.17544935\n",
            " 0.18382353 0.19138072 0.18913399 0.19097222 0.17238562 0.16830065\n",
            " 0.1693219  0.17177288 0.16156046 0.14971405 0.1503268  0.15196078\n",
            " 0.14726307 0.14501634 0.14603758 0.12479575 0.13112745 0.11397059\n",
            " 0.1190768  0.12377451 0.13562092 0.12908497 0.13459967 0.12806373\n",
            " 0.13031046 0.12724673 0.13521242 0.14522059 0.15257353 0.14848856\n",
            " 0.14338235 0.14562908 0.15236928 0.15400327 0.14971405 0.1621732\n",
            " 0.16319444 0.16584967 0.16913886 0.17255448 0.17571178 0.17868207\n",
            " 0.18149555 0.18416724 0.18671171 0.18914576 0.19148736 0.19375357\n",
            " 0.19595934 0.19811673 0.2002348  0.20231995]\n",
            "14 day output [[0.20437633]]\n",
            "15 day input [0.15788399 0.16441993 0.17892157 0.17933007 0.19260621 0.20812908\n",
            " 0.18974673 0.18055556 0.18239379 0.17708333 0.17810458 0.18055556\n",
            " 0.17810458 0.17851307 0.19607843 0.18913399 0.18954248 0.19403595\n",
            " 0.19444444 0.20200163 0.19771242 0.19934641 0.19873366 0.1997549\n",
            " 0.2128268  0.21568627 0.20445261 0.21772876 0.21098856 0.21425654\n",
            " 0.19750817 0.18811275 0.17851307 0.17381536 0.16033497 0.16564542\n",
            " 0.17116013 0.17422386 0.18035131 0.17401961 0.16278595 0.16973039\n",
            " 0.17810458 0.17034314 0.16830065 0.17279412 0.17544935 0.18382353\n",
            " 0.19138072 0.18913399 0.19097222 0.17238562 0.16830065 0.1693219\n",
            " 0.17177288 0.16156046 0.14971405 0.1503268  0.15196078 0.14726307\n",
            " 0.14501634 0.14603758 0.12479575 0.13112745 0.11397059 0.1190768\n",
            " 0.12377451 0.13562092 0.12908497 0.13459967 0.12806373 0.13031046\n",
            " 0.12724673 0.13521242 0.14522059 0.15257353 0.14848856 0.14338235\n",
            " 0.14562908 0.15236928 0.15400327 0.14971405 0.1621732  0.16319444\n",
            " 0.16584967 0.16913886 0.17255448 0.17571178 0.17868207 0.18149555\n",
            " 0.18416724 0.18671171 0.18914576 0.19148736 0.19375357 0.19595934\n",
            " 0.19811673 0.2002348  0.20231995 0.20437633]\n",
            "15 day output [[0.20640634]]\n",
            "16 day input [0.16441993 0.17892157 0.17933007 0.19260621 0.20812908 0.18974673\n",
            " 0.18055556 0.18239379 0.17708333 0.17810458 0.18055556 0.17810458\n",
            " 0.17851307 0.19607843 0.18913399 0.18954248 0.19403595 0.19444444\n",
            " 0.20200163 0.19771242 0.19934641 0.19873366 0.1997549  0.2128268\n",
            " 0.21568627 0.20445261 0.21772876 0.21098856 0.21425654 0.19750817\n",
            " 0.18811275 0.17851307 0.17381536 0.16033497 0.16564542 0.17116013\n",
            " 0.17422386 0.18035131 0.17401961 0.16278595 0.16973039 0.17810458\n",
            " 0.17034314 0.16830065 0.17279412 0.17544935 0.18382353 0.19138072\n",
            " 0.18913399 0.19097222 0.17238562 0.16830065 0.1693219  0.17177288\n",
            " 0.16156046 0.14971405 0.1503268  0.15196078 0.14726307 0.14501634\n",
            " 0.14603758 0.12479575 0.13112745 0.11397059 0.1190768  0.12377451\n",
            " 0.13562092 0.12908497 0.13459967 0.12806373 0.13031046 0.12724673\n",
            " 0.13521242 0.14522059 0.15257353 0.14848856 0.14338235 0.14562908\n",
            " 0.15236928 0.15400327 0.14971405 0.1621732  0.16319444 0.16584967\n",
            " 0.16913886 0.17255448 0.17571178 0.17868207 0.18149555 0.18416724\n",
            " 0.18671171 0.18914576 0.19148736 0.19375357 0.19595934 0.19811673\n",
            " 0.2002348  0.20231995 0.20437633 0.20640634]\n",
            "16 day output [[0.20841143]]\n",
            "17 day input [0.17892157 0.17933007 0.19260621 0.20812908 0.18974673 0.18055556\n",
            " 0.18239379 0.17708333 0.17810458 0.18055556 0.17810458 0.17851307\n",
            " 0.19607843 0.18913399 0.18954248 0.19403595 0.19444444 0.20200163\n",
            " 0.19771242 0.19934641 0.19873366 0.1997549  0.2128268  0.21568627\n",
            " 0.20445261 0.21772876 0.21098856 0.21425654 0.19750817 0.18811275\n",
            " 0.17851307 0.17381536 0.16033497 0.16564542 0.17116013 0.17422386\n",
            " 0.18035131 0.17401961 0.16278595 0.16973039 0.17810458 0.17034314\n",
            " 0.16830065 0.17279412 0.17544935 0.18382353 0.19138072 0.18913399\n",
            " 0.19097222 0.17238562 0.16830065 0.1693219  0.17177288 0.16156046\n",
            " 0.14971405 0.1503268  0.15196078 0.14726307 0.14501634 0.14603758\n",
            " 0.12479575 0.13112745 0.11397059 0.1190768  0.12377451 0.13562092\n",
            " 0.12908497 0.13459967 0.12806373 0.13031046 0.12724673 0.13521242\n",
            " 0.14522059 0.15257353 0.14848856 0.14338235 0.14562908 0.15236928\n",
            " 0.15400327 0.14971405 0.1621732  0.16319444 0.16584967 0.16913886\n",
            " 0.17255448 0.17571178 0.17868207 0.18149555 0.18416724 0.18671171\n",
            " 0.18914576 0.19148736 0.19375357 0.19595934 0.19811673 0.2002348\n",
            " 0.20231995 0.20437633 0.20640634 0.20841143]\n",
            "17 day output [[0.21039234]]\n",
            "18 day input [0.17933007 0.19260621 0.20812908 0.18974673 0.18055556 0.18239379\n",
            " 0.17708333 0.17810458 0.18055556 0.17810458 0.17851307 0.19607843\n",
            " 0.18913399 0.18954248 0.19403595 0.19444444 0.20200163 0.19771242\n",
            " 0.19934641 0.19873366 0.1997549  0.2128268  0.21568627 0.20445261\n",
            " 0.21772876 0.21098856 0.21425654 0.19750817 0.18811275 0.17851307\n",
            " 0.17381536 0.16033497 0.16564542 0.17116013 0.17422386 0.18035131\n",
            " 0.17401961 0.16278595 0.16973039 0.17810458 0.17034314 0.16830065\n",
            " 0.17279412 0.17544935 0.18382353 0.19138072 0.18913399 0.19097222\n",
            " 0.17238562 0.16830065 0.1693219  0.17177288 0.16156046 0.14971405\n",
            " 0.1503268  0.15196078 0.14726307 0.14501634 0.14603758 0.12479575\n",
            " 0.13112745 0.11397059 0.1190768  0.12377451 0.13562092 0.12908497\n",
            " 0.13459967 0.12806373 0.13031046 0.12724673 0.13521242 0.14522059\n",
            " 0.15257353 0.14848856 0.14338235 0.14562908 0.15236928 0.15400327\n",
            " 0.14971405 0.1621732  0.16319444 0.16584967 0.16913886 0.17255448\n",
            " 0.17571178 0.17868207 0.18149555 0.18416724 0.18671171 0.18914576\n",
            " 0.19148736 0.19375357 0.19595934 0.19811673 0.2002348  0.20231995\n",
            " 0.20437633 0.20640634 0.20841143 0.21039234]\n",
            "18 day output [[0.21234952]]\n",
            "19 day input [0.19260621 0.20812908 0.18974673 0.18055556 0.18239379 0.17708333\n",
            " 0.17810458 0.18055556 0.17810458 0.17851307 0.19607843 0.18913399\n",
            " 0.18954248 0.19403595 0.19444444 0.20200163 0.19771242 0.19934641\n",
            " 0.19873366 0.1997549  0.2128268  0.21568627 0.20445261 0.21772876\n",
            " 0.21098856 0.21425654 0.19750817 0.18811275 0.17851307 0.17381536\n",
            " 0.16033497 0.16564542 0.17116013 0.17422386 0.18035131 0.17401961\n",
            " 0.16278595 0.16973039 0.17810458 0.17034314 0.16830065 0.17279412\n",
            " 0.17544935 0.18382353 0.19138072 0.18913399 0.19097222 0.17238562\n",
            " 0.16830065 0.1693219  0.17177288 0.16156046 0.14971405 0.1503268\n",
            " 0.15196078 0.14726307 0.14501634 0.14603758 0.12479575 0.13112745\n",
            " 0.11397059 0.1190768  0.12377451 0.13562092 0.12908497 0.13459967\n",
            " 0.12806373 0.13031046 0.12724673 0.13521242 0.14522059 0.15257353\n",
            " 0.14848856 0.14338235 0.14562908 0.15236928 0.15400327 0.14971405\n",
            " 0.1621732  0.16319444 0.16584967 0.16913886 0.17255448 0.17571178\n",
            " 0.17868207 0.18149555 0.18416724 0.18671171 0.18914576 0.19148736\n",
            " 0.19375357 0.19595934 0.19811673 0.2002348  0.20231995 0.20437633\n",
            " 0.20640634 0.20841143 0.21039234 0.21234952]\n",
            "19 day output [[0.21428369]]\n",
            "20 day input [0.20812908 0.18974673 0.18055556 0.18239379 0.17708333 0.17810458\n",
            " 0.18055556 0.17810458 0.17851307 0.19607843 0.18913399 0.18954248\n",
            " 0.19403595 0.19444444 0.20200163 0.19771242 0.19934641 0.19873366\n",
            " 0.1997549  0.2128268  0.21568627 0.20445261 0.21772876 0.21098856\n",
            " 0.21425654 0.19750817 0.18811275 0.17851307 0.17381536 0.16033497\n",
            " 0.16564542 0.17116013 0.17422386 0.18035131 0.17401961 0.16278595\n",
            " 0.16973039 0.17810458 0.17034314 0.16830065 0.17279412 0.17544935\n",
            " 0.18382353 0.19138072 0.18913399 0.19097222 0.17238562 0.16830065\n",
            " 0.1693219  0.17177288 0.16156046 0.14971405 0.1503268  0.15196078\n",
            " 0.14726307 0.14501634 0.14603758 0.12479575 0.13112745 0.11397059\n",
            " 0.1190768  0.12377451 0.13562092 0.12908497 0.13459967 0.12806373\n",
            " 0.13031046 0.12724673 0.13521242 0.14522059 0.15257353 0.14848856\n",
            " 0.14338235 0.14562908 0.15236928 0.15400327 0.14971405 0.1621732\n",
            " 0.16319444 0.16584967 0.16913886 0.17255448 0.17571178 0.17868207\n",
            " 0.18149555 0.18416724 0.18671171 0.18914576 0.19148736 0.19375357\n",
            " 0.19595934 0.19811673 0.2002348  0.20231995 0.20437633 0.20640634\n",
            " 0.20841143 0.21039234 0.21234952 0.21428369]\n",
            "20 day output [[0.21619545]]\n",
            "21 day input [0.18974673 0.18055556 0.18239379 0.17708333 0.17810458 0.18055556\n",
            " 0.17810458 0.17851307 0.19607843 0.18913399 0.18954248 0.19403595\n",
            " 0.19444444 0.20200163 0.19771242 0.19934641 0.19873366 0.1997549\n",
            " 0.2128268  0.21568627 0.20445261 0.21772876 0.21098856 0.21425654\n",
            " 0.19750817 0.18811275 0.17851307 0.17381536 0.16033497 0.16564542\n",
            " 0.17116013 0.17422386 0.18035131 0.17401961 0.16278595 0.16973039\n",
            " 0.17810458 0.17034314 0.16830065 0.17279412 0.17544935 0.18382353\n",
            " 0.19138072 0.18913399 0.19097222 0.17238562 0.16830065 0.1693219\n",
            " 0.17177288 0.16156046 0.14971405 0.1503268  0.15196078 0.14726307\n",
            " 0.14501634 0.14603758 0.12479575 0.13112745 0.11397059 0.1190768\n",
            " 0.12377451 0.13562092 0.12908497 0.13459967 0.12806373 0.13031046\n",
            " 0.12724673 0.13521242 0.14522059 0.15257353 0.14848856 0.14338235\n",
            " 0.14562908 0.15236928 0.15400327 0.14971405 0.1621732  0.16319444\n",
            " 0.16584967 0.16913886 0.17255448 0.17571178 0.17868207 0.18149555\n",
            " 0.18416724 0.18671171 0.18914576 0.19148736 0.19375357 0.19595934\n",
            " 0.19811673 0.2002348  0.20231995 0.20437633 0.20640634 0.20841143\n",
            " 0.21039234 0.21234952 0.21428369 0.21619545]\n",
            "21 day output [[0.218086]]\n",
            "22 day input [0.18055556 0.18239379 0.17708333 0.17810458 0.18055556 0.17810458\n",
            " 0.17851307 0.19607843 0.18913399 0.18954248 0.19403595 0.19444444\n",
            " 0.20200163 0.19771242 0.19934641 0.19873366 0.1997549  0.2128268\n",
            " 0.21568627 0.20445261 0.21772876 0.21098856 0.21425654 0.19750817\n",
            " 0.18811275 0.17851307 0.17381536 0.16033497 0.16564542 0.17116013\n",
            " 0.17422386 0.18035131 0.17401961 0.16278595 0.16973039 0.17810458\n",
            " 0.17034314 0.16830065 0.17279412 0.17544935 0.18382353 0.19138072\n",
            " 0.18913399 0.19097222 0.17238562 0.16830065 0.1693219  0.17177288\n",
            " 0.16156046 0.14971405 0.1503268  0.15196078 0.14726307 0.14501634\n",
            " 0.14603758 0.12479575 0.13112745 0.11397059 0.1190768  0.12377451\n",
            " 0.13562092 0.12908497 0.13459967 0.12806373 0.13031046 0.12724673\n",
            " 0.13521242 0.14522059 0.15257353 0.14848856 0.14338235 0.14562908\n",
            " 0.15236928 0.15400327 0.14971405 0.1621732  0.16319444 0.16584967\n",
            " 0.16913886 0.17255448 0.17571178 0.17868207 0.18149555 0.18416724\n",
            " 0.18671171 0.18914576 0.19148736 0.19375357 0.19595934 0.19811673\n",
            " 0.2002348  0.20231995 0.20437633 0.20640634 0.20841143 0.21039234\n",
            " 0.21234952 0.21428369 0.21619545 0.218086  ]\n",
            "22 day output [[0.21995662]]\n",
            "23 day input [0.18239379 0.17708333 0.17810458 0.18055556 0.17810458 0.17851307\n",
            " 0.19607843 0.18913399 0.18954248 0.19403595 0.19444444 0.20200163\n",
            " 0.19771242 0.19934641 0.19873366 0.1997549  0.2128268  0.21568627\n",
            " 0.20445261 0.21772876 0.21098856 0.21425654 0.19750817 0.18811275\n",
            " 0.17851307 0.17381536 0.16033497 0.16564542 0.17116013 0.17422386\n",
            " 0.18035131 0.17401961 0.16278595 0.16973039 0.17810458 0.17034314\n",
            " 0.16830065 0.17279412 0.17544935 0.18382353 0.19138072 0.18913399\n",
            " 0.19097222 0.17238562 0.16830065 0.1693219  0.17177288 0.16156046\n",
            " 0.14971405 0.1503268  0.15196078 0.14726307 0.14501634 0.14603758\n",
            " 0.12479575 0.13112745 0.11397059 0.1190768  0.12377451 0.13562092\n",
            " 0.12908497 0.13459967 0.12806373 0.13031046 0.12724673 0.13521242\n",
            " 0.14522059 0.15257353 0.14848856 0.14338235 0.14562908 0.15236928\n",
            " 0.15400327 0.14971405 0.1621732  0.16319444 0.16584967 0.16913886\n",
            " 0.17255448 0.17571178 0.17868207 0.18149555 0.18416724 0.18671171\n",
            " 0.18914576 0.19148736 0.19375357 0.19595934 0.19811673 0.2002348\n",
            " 0.20231995 0.20437633 0.20640634 0.20841143 0.21039234 0.21234952\n",
            " 0.21428369 0.21619545 0.218086   0.21995662]\n",
            "23 day output [[0.2218087]]\n",
            "24 day input [0.17708333 0.17810458 0.18055556 0.17810458 0.17851307 0.19607843\n",
            " 0.18913399 0.18954248 0.19403595 0.19444444 0.20200163 0.19771242\n",
            " 0.19934641 0.19873366 0.1997549  0.2128268  0.21568627 0.20445261\n",
            " 0.21772876 0.21098856 0.21425654 0.19750817 0.18811275 0.17851307\n",
            " 0.17381536 0.16033497 0.16564542 0.17116013 0.17422386 0.18035131\n",
            " 0.17401961 0.16278595 0.16973039 0.17810458 0.17034314 0.16830065\n",
            " 0.17279412 0.17544935 0.18382353 0.19138072 0.18913399 0.19097222\n",
            " 0.17238562 0.16830065 0.1693219  0.17177288 0.16156046 0.14971405\n",
            " 0.1503268  0.15196078 0.14726307 0.14501634 0.14603758 0.12479575\n",
            " 0.13112745 0.11397059 0.1190768  0.12377451 0.13562092 0.12908497\n",
            " 0.13459967 0.12806373 0.13031046 0.12724673 0.13521242 0.14522059\n",
            " 0.15257353 0.14848856 0.14338235 0.14562908 0.15236928 0.15400327\n",
            " 0.14971405 0.1621732  0.16319444 0.16584967 0.16913886 0.17255448\n",
            " 0.17571178 0.17868207 0.18149555 0.18416724 0.18671171 0.18914576\n",
            " 0.19148736 0.19375357 0.19595934 0.19811673 0.2002348  0.20231995\n",
            " 0.20437633 0.20640634 0.20841143 0.21039234 0.21234952 0.21428369\n",
            " 0.21619545 0.218086   0.21995662 0.2218087 ]\n",
            "24 day output [[0.22364403]]\n",
            "25 day input [0.17810458 0.18055556 0.17810458 0.17851307 0.19607843 0.18913399\n",
            " 0.18954248 0.19403595 0.19444444 0.20200163 0.19771242 0.19934641\n",
            " 0.19873366 0.1997549  0.2128268  0.21568627 0.20445261 0.21772876\n",
            " 0.21098856 0.21425654 0.19750817 0.18811275 0.17851307 0.17381536\n",
            " 0.16033497 0.16564542 0.17116013 0.17422386 0.18035131 0.17401961\n",
            " 0.16278595 0.16973039 0.17810458 0.17034314 0.16830065 0.17279412\n",
            " 0.17544935 0.18382353 0.19138072 0.18913399 0.19097222 0.17238562\n",
            " 0.16830065 0.1693219  0.17177288 0.16156046 0.14971405 0.1503268\n",
            " 0.15196078 0.14726307 0.14501634 0.14603758 0.12479575 0.13112745\n",
            " 0.11397059 0.1190768  0.12377451 0.13562092 0.12908497 0.13459967\n",
            " 0.12806373 0.13031046 0.12724673 0.13521242 0.14522059 0.15257353\n",
            " 0.14848856 0.14338235 0.14562908 0.15236928 0.15400327 0.14971405\n",
            " 0.1621732  0.16319444 0.16584967 0.16913886 0.17255448 0.17571178\n",
            " 0.17868207 0.18149555 0.18416724 0.18671171 0.18914576 0.19148736\n",
            " 0.19375357 0.19595934 0.19811673 0.2002348  0.20231995 0.20437633\n",
            " 0.20640634 0.20841143 0.21039234 0.21234952 0.21428369 0.21619545\n",
            " 0.218086   0.21995662 0.2218087  0.22364403]\n",
            "25 day output [[0.22546408]]\n",
            "26 day input [0.18055556 0.17810458 0.17851307 0.19607843 0.18913399 0.18954248\n",
            " 0.19403595 0.19444444 0.20200163 0.19771242 0.19934641 0.19873366\n",
            " 0.1997549  0.2128268  0.21568627 0.20445261 0.21772876 0.21098856\n",
            " 0.21425654 0.19750817 0.18811275 0.17851307 0.17381536 0.16033497\n",
            " 0.16564542 0.17116013 0.17422386 0.18035131 0.17401961 0.16278595\n",
            " 0.16973039 0.17810458 0.17034314 0.16830065 0.17279412 0.17544935\n",
            " 0.18382353 0.19138072 0.18913399 0.19097222 0.17238562 0.16830065\n",
            " 0.1693219  0.17177288 0.16156046 0.14971405 0.1503268  0.15196078\n",
            " 0.14726307 0.14501634 0.14603758 0.12479575 0.13112745 0.11397059\n",
            " 0.1190768  0.12377451 0.13562092 0.12908497 0.13459967 0.12806373\n",
            " 0.13031046 0.12724673 0.13521242 0.14522059 0.15257353 0.14848856\n",
            " 0.14338235 0.14562908 0.15236928 0.15400327 0.14971405 0.1621732\n",
            " 0.16319444 0.16584967 0.16913886 0.17255448 0.17571178 0.17868207\n",
            " 0.18149555 0.18416724 0.18671171 0.18914576 0.19148736 0.19375357\n",
            " 0.19595934 0.19811673 0.2002348  0.20231995 0.20437633 0.20640634\n",
            " 0.20841143 0.21039234 0.21234952 0.21428369 0.21619545 0.218086\n",
            " 0.21995662 0.2218087  0.22364403 0.22546408]\n",
            "26 day output [[0.22727035]]\n",
            "27 day input [0.17810458 0.17851307 0.19607843 0.18913399 0.18954248 0.19403595\n",
            " 0.19444444 0.20200163 0.19771242 0.19934641 0.19873366 0.1997549\n",
            " 0.2128268  0.21568627 0.20445261 0.21772876 0.21098856 0.21425654\n",
            " 0.19750817 0.18811275 0.17851307 0.17381536 0.16033497 0.16564542\n",
            " 0.17116013 0.17422386 0.18035131 0.17401961 0.16278595 0.16973039\n",
            " 0.17810458 0.17034314 0.16830065 0.17279412 0.17544935 0.18382353\n",
            " 0.19138072 0.18913399 0.19097222 0.17238562 0.16830065 0.1693219\n",
            " 0.17177288 0.16156046 0.14971405 0.1503268  0.15196078 0.14726307\n",
            " 0.14501634 0.14603758 0.12479575 0.13112745 0.11397059 0.1190768\n",
            " 0.12377451 0.13562092 0.12908497 0.13459967 0.12806373 0.13031046\n",
            " 0.12724673 0.13521242 0.14522059 0.15257353 0.14848856 0.14338235\n",
            " 0.14562908 0.15236928 0.15400327 0.14971405 0.1621732  0.16319444\n",
            " 0.16584967 0.16913886 0.17255448 0.17571178 0.17868207 0.18149555\n",
            " 0.18416724 0.18671171 0.18914576 0.19148736 0.19375357 0.19595934\n",
            " 0.19811673 0.2002348  0.20231995 0.20437633 0.20640634 0.20841143\n",
            " 0.21039234 0.21234952 0.21428369 0.21619545 0.218086   0.21995662\n",
            " 0.2218087  0.22364403 0.22546408 0.22727035]\n",
            "27 day output [[0.22906438]]\n",
            "28 day input [0.17851307 0.19607843 0.18913399 0.18954248 0.19403595 0.19444444\n",
            " 0.20200163 0.19771242 0.19934641 0.19873366 0.1997549  0.2128268\n",
            " 0.21568627 0.20445261 0.21772876 0.21098856 0.21425654 0.19750817\n",
            " 0.18811275 0.17851307 0.17381536 0.16033497 0.16564542 0.17116013\n",
            " 0.17422386 0.18035131 0.17401961 0.16278595 0.16973039 0.17810458\n",
            " 0.17034314 0.16830065 0.17279412 0.17544935 0.18382353 0.19138072\n",
            " 0.18913399 0.19097222 0.17238562 0.16830065 0.1693219  0.17177288\n",
            " 0.16156046 0.14971405 0.1503268  0.15196078 0.14726307 0.14501634\n",
            " 0.14603758 0.12479575 0.13112745 0.11397059 0.1190768  0.12377451\n",
            " 0.13562092 0.12908497 0.13459967 0.12806373 0.13031046 0.12724673\n",
            " 0.13521242 0.14522059 0.15257353 0.14848856 0.14338235 0.14562908\n",
            " 0.15236928 0.15400327 0.14971405 0.1621732  0.16319444 0.16584967\n",
            " 0.16913886 0.17255448 0.17571178 0.17868207 0.18149555 0.18416724\n",
            " 0.18671171 0.18914576 0.19148736 0.19375357 0.19595934 0.19811673\n",
            " 0.2002348  0.20231995 0.20437633 0.20640634 0.20841143 0.21039234\n",
            " 0.21234952 0.21428369 0.21619545 0.218086   0.21995662 0.2218087\n",
            " 0.22364403 0.22546408 0.22727035 0.22906438]\n",
            "28 day output [[0.23084718]]\n",
            "29 day input [0.19607843 0.18913399 0.18954248 0.19403595 0.19444444 0.20200163\n",
            " 0.19771242 0.19934641 0.19873366 0.1997549  0.2128268  0.21568627\n",
            " 0.20445261 0.21772876 0.21098856 0.21425654 0.19750817 0.18811275\n",
            " 0.17851307 0.17381536 0.16033497 0.16564542 0.17116013 0.17422386\n",
            " 0.18035131 0.17401961 0.16278595 0.16973039 0.17810458 0.17034314\n",
            " 0.16830065 0.17279412 0.17544935 0.18382353 0.19138072 0.18913399\n",
            " 0.19097222 0.17238562 0.16830065 0.1693219  0.17177288 0.16156046\n",
            " 0.14971405 0.1503268  0.15196078 0.14726307 0.14501634 0.14603758\n",
            " 0.12479575 0.13112745 0.11397059 0.1190768  0.12377451 0.13562092\n",
            " 0.12908497 0.13459967 0.12806373 0.13031046 0.12724673 0.13521242\n",
            " 0.14522059 0.15257353 0.14848856 0.14338235 0.14562908 0.15236928\n",
            " 0.15400327 0.14971405 0.1621732  0.16319444 0.16584967 0.16913886\n",
            " 0.17255448 0.17571178 0.17868207 0.18149555 0.18416724 0.18671171\n",
            " 0.18914576 0.19148736 0.19375357 0.19595934 0.19811673 0.2002348\n",
            " 0.20231995 0.20437633 0.20640634 0.20841143 0.21039234 0.21234952\n",
            " 0.21428369 0.21619545 0.218086   0.21995662 0.2218087  0.22364403\n",
            " 0.22546408 0.22727035 0.22906438 0.23084718]\n",
            "29 day output [[0.23261985]]\n",
            "[[0.1691388636827469], [0.17255447804927826], [0.17571178078651428], [0.17868207395076752], [0.1814955472946167], [0.18416723608970642], [0.18671171367168427], [0.1891457587480545], [0.1914873570203781], [0.19375357031822205], [0.19595934450626373], [0.198116734623909], [0.2002348005771637], [0.2023199498653412], [0.20437632501125336], [0.2064063400030136], [0.20841142535209656], [0.21039234101772308], [0.2123495191335678], [0.21428368985652924], [0.21619544923305511], [0.21808600425720215], [0.21995662152767181], [0.22180870175361633], [0.22364403307437897], [0.2254640758037567], [0.22727034986019135], [0.22906437516212463], [0.23084717988967896], [0.23261985182762146]]\n"
          ]
        }
      ]
    },
    {
      "cell_type": "code",
      "source": [
        "day_new = np.arange(1,101)\n",
        "day_pred = np.arange(101,131)\n",
        "len(df_close)"
      ],
      "metadata": {
        "colab": {
          "base_uri": "https://localhost:8080/"
        },
        "id": "Hx-fA90Ll-0Q",
        "outputId": "bbb0ba15-ecec-4c93-c2e4-8353356dda66"
      },
      "execution_count": 33,
      "outputs": [
        {
          "output_type": "execute_result",
          "data": {
            "text/plain": [
              "2035"
            ]
          },
          "metadata": {},
          "execution_count": 33
        }
      ]
    },
    {
      "cell_type": "code",
      "source": [
        "plt.plot(day_new,scaler.inverse_transform(df_close[1935:])) #displays as real data here 1935 is taken because we want last 100 data for our predicted data from df1\n",
        "plt.plot(day_pred,scaler.inverse_transform(lst_output)) #displays the predicted data"
      ],
      "metadata": {
        "colab": {
          "base_uri": "https://localhost:8080/",
          "height": 282
        },
        "id": "hy5pNfT1mKhJ",
        "outputId": "63b5559e-7388-42d4-f4e9-93ecab728a30"
      },
      "execution_count": 36,
      "outputs": [
        {
          "output_type": "execute_result",
          "data": {
            "text/plain": [
              "[<matplotlib.lines.Line2D at 0x7efe478a51d0>]"
            ]
          },
          "metadata": {},
          "execution_count": 36
        },
        {
          "output_type": "display_data",
          "data": {
            "image/png": "[encoded data removed]",
            "text/plain": [
              "<Figure size 432x288 with 1 Axes>"
            ]
          },
          "metadata": {
            "needs_background": "light"
          }
        }
      ]
    },
    {
      "cell_type": "code",
      "source": [
        "# to display the graph more largerly\n",
        "df3 = df_close.tolist()\n",
        "df3.extend(lst_output)\n",
        "plt.plot(df3[2000:])"
      ],
      "metadata": {
        "colab": {
          "base_uri": "https://localhost:8080/",
          "height": 282
        },
        "id": "5Jd2rpOfmRnc",
        "outputId": "5ecfea2d-b929-43b9-f51c-543bffcc0db3"
      },
      "execution_count": 37,
      "outputs": [
        {
          "output_type": "execute_result",
          "data": {
            "text/plain": [
              "[<matplotlib.lines.Line2D at 0x7efe48d920d0>]"
            ]
          },
          "metadata": {},
          "execution_count": 37
        },
        {
          "output_type": "display_data",
          "data": {
            "image/png": "[encoded data removed]",
            "text/plain": [
              "<Figure size 432x288 with 1 Axes>"
            ]
          },
          "metadata": {
            "needs_background": "light"
          }
        }
      ]
    },
    {
      "cell_type": "code",
      "source": [
        "# to display the graph more largerly\n",
        "df3=df_close.tolist()\n",
        "df3.extend(lst_output)\n",
        "plt.plot(df3[2025:])"
      ],
      "metadata": {
        "colab": {
          "base_uri": "https://localhost:8080/",
          "height": 282
        },
        "id": "RgGS88gsmfOe",
        "outputId": "e90b2691-9073-41c8-bc35-d23db1fb551e"
      },
      "execution_count": 39,
      "outputs": [
        {
          "output_type": "execute_result",
          "data": {
            "text/plain": [
              "[<matplotlib.lines.Line2D at 0x7efe48dcab90>]"
            ]
          },
          "metadata": {},
          "execution_count": 39
        },
        {
          "output_type": "display_data",
          "data": {
            "image/png": "[encoded data removed]",
            "text/plain": [
              "<Figure size 432x288 with 1 Axes>"
            ]
          },
          "metadata": {
            "needs_background": "light"
          }
        }
      ]
    },
    {
      "cell_type": "code",
      "source": [
        ""
      ],
      "metadata": {
        "id": "J-zp_AUmmjpO"
      },
      "execution_count": null,
      "outputs": []
    }
  ]
}