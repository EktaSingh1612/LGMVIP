{
  "nbformat": 4,
  "nbformat_minor": 0,
  "metadata": {
    "colab": {
      "name": "develop a NN that can read handwriting.ipynb",
      "provenance": [],
      "collapsed_sections": [],
      "authorship_tag": "ABX9TyPoEe3UJihZtzoN/DHlhZhA",
      "include_colab_link": true
    },
    "kernelspec": {
      "name": "python3",
      "display_name": "Python 3"
    },
    "language_info": {
      "name": "python"
    }
  },
  "cells": [
    {
      "cell_type": "markdown",
      "metadata": {
        "id": "view-in-github",
        "colab_type": "text"
      },
      "source": [
        "<a href=\"https://colab.research.google.com/github/EktaSingh1612/LGMVIP/blob/main/develop_a_NN_that_can_read_handwriting.ipynb\" target=\"_parent\"><img src=\"https://colab.research.google.com/assets/colab-badge.svg\" alt=\"Open In Colab\"/></a>"
      ]
    },
    {
      "cell_type": "markdown",
      "source": [
        "#LGMVIP Data Science Internship\n",
        "\n",
        "##Author : EKTA SINGH\n",
        "##Advanced Level Task: Develop A Neural Network That Can Read Handwriting:\n",
        "###Technique used: CNN"
      ],
      "metadata": {
        "id": "k59E1eXmSCC-"
      }
    },
    {
      "cell_type": "code",
      "execution_count": null,
      "metadata": {
        "id": "Ez30rCF0Hasm"
      },
      "outputs": [],
      "source": [
        "import matplotlib.pyplot as plt\n",
        "import numpy as np\n",
        "import os\n",
        "import PIL\n",
        "import tensorflow as tf\n",
        "\n",
        "from tensorflow import keras\n",
        "from tensorflow.keras import layers, datasets, models\n",
        "from tensorflow.keras.models import Sequential"
      ]
    },
    {
      "cell_type": "markdown",
      "source": [
        "# Prepare Dataset"
      ],
      "metadata": {
        "id": "lPzvt-HdHna7"
      }
    },
    {
      "cell_type": "code",
      "source": [
        "(train_images, train_labels), (test_images, test_labels) = datasets.mnist.load_data()\n",
        "\n",
        "train_images = train_images.reshape((60000, 28, 28, 1))\n",
        "test_images = test_images.reshape((10000, 28, 28, 1))\n",
        "\n",
        "# Normalize pixel values to be between 0 and 1\n",
        "train_images, test_images = train_images / 255.0, test_images / 255.0\n",
        "\n",
        "print(\"TRAIN IMAGES: \", train_images.shape)\n",
        "print(\"TEST IMAGES: \", test_images.shape)"
      ],
      "metadata": {
        "colab": {
          "base_uri": "https://localhost:8080/"
        },
        "id": "2-Ch3B0yHkqg",
        "outputId": "b6831c1b-bf2f-46b8-b417-0bc5feb4dd28"
      },
      "execution_count": null,
      "outputs": [
        {
          "output_type": "stream",
          "name": "stdout",
          "text": [
            "Downloading data from https://storage.googleapis.com/tensorflow/tf-keras-datasets/mnist.npz\n",
            "11493376/11490434 [==============================] - 0s 0us/step\n",
            "11501568/11490434 [==============================] - 0s 0us/step\n",
            "TRAIN IMAGES:  (60000, 28, 28, 1)\n",
            "TEST IMAGES:  (10000, 28, 28, 1)\n"
          ]
        }
      ]
    },
    {
      "cell_type": "markdown",
      "source": [
        "# Create Model"
      ],
      "metadata": {
        "id": "0gBf_b3-H0Ao"
      }
    },
    {
      "cell_type": "code",
      "source": [
        "num_classes = 10\n",
        "img_height = 28\n",
        "img_width = 28\n",
        "\n",
        "model = Sequential([\n",
        "    layers.Conv2D(64, (3, 3), activation='relu', input_shape=(28, 28, 1)),\n",
        "    layers.Conv2D(32, 3, padding='same', activation='relu'),\n",
        "    layers.MaxPooling2D(),\n",
        "    layers.Conv2D(16, 3, padding='same', activation='relu'),\n",
        "    layers.MaxPooling2D(),\n",
        "    layers.Conv2D(64, 3, padding='same', activation='relu'),\n",
        "    layers.MaxPooling2D(),\n",
        "    layers.Flatten(),\n",
        "    layers.Dense(128, activation='relu'),\n",
        "    layers.Dense(10, activation='sigmoid')\n",
        "])"
      ],
      "metadata": {
        "id": "n_tydVtoHvAe"
      },
      "execution_count": null,
      "outputs": []
    },
    {
      "cell_type": "markdown",
      "source": [
        "#Compile Model"
      ],
      "metadata": {
        "id": "LWF4FheTH87a"
      }
    },
    {
      "cell_type": "code",
      "source": [
        "model.compile(optimizer='adam',\n",
        "              loss=tf.keras.losses.SparseCategoricalCrossentropy(from_logits=True),\n",
        "              metrics=['accuracy'])\n",
        "\n",
        "model.summary()"
      ],
      "metadata": {
        "colab": {
          "base_uri": "https://localhost:8080/"
        },
        "id": "xQQzAh-RH44z",
        "outputId": "bea0c390-0665-4c7d-ea08-b598cbb2ca99"
      },
      "execution_count": null,
      "outputs": [
        {
          "output_type": "stream",
          "name": "stdout",
          "text": [
            "Model: \"sequential\"\n",
            "_________________________________________________________________\n",
            " Layer (type)                Output Shape              Param #   \n",
            "=================================================================\n",
            " conv2d (Conv2D)             (None, 26, 26, 64)        640       \n",
            "                                                                 \n",
            " conv2d_1 (Conv2D)           (None, 26, 26, 32)        18464     \n",
            "                                                                 \n",
            " max_pooling2d (MaxPooling2D  (None, 13, 13, 32)       0         \n",
            " )                                                               \n",
            "                                                                 \n",
            " conv2d_2 (Conv2D)           (None, 13, 13, 16)        4624      \n",
            "                                                                 \n",
            " max_pooling2d_1 (MaxPooling  (None, 6, 6, 16)         0         \n",
            " 2D)                                                             \n",
            "                                                                 \n",
            " conv2d_3 (Conv2D)           (None, 6, 6, 64)          9280      \n",
            "                                                                 \n",
            " max_pooling2d_2 (MaxPooling  (None, 3, 3, 64)         0         \n",
            " 2D)                                                             \n",
            "                                                                 \n",
            " flatten (Flatten)           (None, 576)               0         \n",
            "                                                                 \n",
            " dense (Dense)               (None, 128)               73856     \n",
            "                                                                 \n",
            " dense_1 (Dense)             (None, 10)                1290      \n",
            "                                                                 \n",
            "=================================================================\n",
            "Total params: 108,154\n",
            "Trainable params: 108,154\n",
            "Non-trainable params: 0\n",
            "_________________________________________________________________\n"
          ]
        }
      ]
    },
    {
      "cell_type": "markdown",
      "source": [
        "#Train Model"
      ],
      "metadata": {
        "id": "f9LeaJJHIJmF"
      }
    },
    {
      "cell_type": "code",
      "source": [
        "epochs = 10\n",
        "history = model.fit(\n",
        "  train_images, \n",
        "  train_labels,\n",
        "  epochs = epochs\n",
        ")\n"
      ],
      "metadata": {
        "colab": {
          "base_uri": "https://localhost:8080/"
        },
        "id": "k1XOsBEVICtr",
        "outputId": "84fad33f-dca6-46b9-daf1-837a0f1e2ee3"
      },
      "execution_count": null,
      "outputs": [
        {
          "output_type": "stream",
          "name": "stdout",
          "text": [
            "Epoch 1/10\n"
          ]
        },
        {
          "output_type": "stream",
          "name": "stderr",
          "text": [
            "/usr/local/lib/python3.7/dist-packages/tensorflow/python/util/dispatch.py:1096: UserWarning: \"`sparse_categorical_crossentropy` received `from_logits=True`, but the `output` argument was produced by a sigmoid or softmax activation and thus does not represent logits. Was this intended?\"\n",
            "  return dispatch_target(*args, **kwargs)\n"
          ]
        },
        {
          "output_type": "stream",
          "name": "stdout",
          "text": [
            "1875/1875 [==============================] - 212s 112ms/step - loss: 0.1377 - accuracy: 0.9574\n",
            "Epoch 2/10\n",
            "1875/1875 [==============================] - 192s 103ms/step - loss: 0.0449 - accuracy: 0.9856\n",
            "Epoch 3/10\n",
            "1875/1875 [==============================] - 191s 102ms/step - loss: 0.0338 - accuracy: 0.9892\n",
            "Epoch 4/10\n",
            "1875/1875 [==============================] - 191s 102ms/step - loss: 0.0273 - accuracy: 0.9914\n",
            "Epoch 5/10\n",
            "1875/1875 [==============================] - 191s 102ms/step - loss: 0.0225 - accuracy: 0.9930\n",
            "Epoch 6/10\n",
            "1875/1875 [==============================] - 190s 101ms/step - loss: 0.0193 - accuracy: 0.9940\n",
            "Epoch 7/10\n",
            "1875/1875 [==============================] - 190s 102ms/step - loss: 0.0159 - accuracy: 0.9948\n",
            "Epoch 8/10\n",
            "1875/1875 [==============================] - 191s 102ms/step - loss: 0.0144 - accuracy: 0.9953\n",
            "Epoch 9/10\n",
            "1875/1875 [==============================] - 191s 102ms/step - loss: 0.0127 - accuracy: 0.9956\n",
            "Epoch 10/10\n",
            "1875/1875 [==============================] - 190s 102ms/step - loss: 0.0106 - accuracy: 0.9966\n"
          ]
        }
      ]
    },
    {
      "cell_type": "markdown",
      "source": [
        "#Visualize Training Results"
      ],
      "metadata": {
        "id": "3zxnA-x0ISlY"
      }
    },
    {
      "cell_type": "code",
      "source": [
        "acc = history.history['accuracy']\n",
        "loss=history.history['loss']\n",
        "\n",
        "epochs_range = range(epochs)\n",
        "\n",
        "plt.figure(figsize=(8, 8))\n",
        "plt.plot(epochs_range, acc, label='Training Accuracy')\n",
        "plt.plot(epochs_range, loss, label='Loss')\n",
        "plt.legend(loc='lower right')\n",
        "plt.title('Training Accuracy and Loss')"
      ],
      "metadata": {
        "colab": {
          "base_uri": "https://localhost:8080/",
          "height": 516
        },
        "id": "a8IzilLzIODO",
        "outputId": "fe08bb0d-14b4-43af-861a-f9d77fc635d0"
      },
      "execution_count": null,
      "outputs": [
        {
          "output_type": "execute_result",
          "data": {
            "text/plain": [
              "Text(0.5, 1.0, 'Training Accuracy and Loss')"
            ]
          },
          "metadata": {},
          "execution_count": 6
        },
        {
          "output_type": "display_data",
          "data": {
            "image/png": "[encoded data removed]",
            "text/plain": [
              "<Figure size 576x576 with 1 Axes>"
            ]
          },
          "metadata": {
            "needs_background": "light"
          }
        }
      ]
    },
    {
      "cell_type": "markdown",
      "source": [
        "#Test Image"
      ],
      "metadata": {
        "id": "XoI63SqmP3CQ"
      }
    },
    {
      "cell_type": "code",
      "source": [
        "image = (train_images[1]).reshape(1,28,28,1)\n",
        "model_pred = model.predict(image, verbose=0)\n",
        "plt.imshow(image.reshape(28,28))\n",
        "print('Prediction of model: {}'.format(model_pred[0]))"
      ],
      "metadata": {
        "colab": {
          "base_uri": "https://localhost:8080/",
          "height": 299
        },
        "id": "omhCTRgzPp4j",
        "outputId": "ca75e0fc-fc68-480a-b963-a7fe8646a3d4"
      },
      "execution_count": null,
      "outputs": [
        {
          "output_type": "stream",
          "name": "stdout",
          "text": [
            "Prediction of model: [1.0000000e+00 1.4362493e-07 9.2432674e-05 2.5064522e-09 4.3978238e-07\n",
            " 1.0130678e-08 2.9294789e-02 4.4194428e-07 6.0221694e-09 1.7210841e-03]\n"
          ]
        },
        {
          "output_type": "display_data",
          "data": {
            "image/png": "[encoded data removed]",
            "text/plain": [
              "<Figure size 432x288 with 1 Axes>"
            ]
          },
          "metadata": {
            "needs_background": "light"
          }
        }
      ]
    },
    {
      "cell_type": "code",
      "source": [
        "image = (train_images[2]).reshape(1,28,28,1)\n",
        "model_pred = model.predict(image, verbose=0)\n",
        "plt.imshow(image.reshape(28,28))\n",
        "print('Prediction of model: {}'.format(model_pred[0]))"
      ],
      "metadata": {
        "colab": {
          "base_uri": "https://localhost:8080/",
          "height": 299
        },
        "id": "D-iuzDWyP7yU",
        "outputId": "b71884ff-3eb5-462c-9c37-f0ba9e3ed0c2"
      },
      "execution_count": null,
      "outputs": [
        {
          "output_type": "stream",
          "name": "stdout",
          "text": [
            "Prediction of model: [3.5913513e-07 1.2370646e-03 1.3630622e-05 2.7244894e-06 1.0000000e+00\n",
            " 9.0201178e-07 1.6180189e-05 1.5417039e-03 8.2500577e-03 3.8282129e-01]\n"
          ]
        },
        {
          "output_type": "display_data",
          "data": {
            "image/png": "[encoded data removed]",
            "text/plain": [
              "<Figure size 432x288 with 1 Axes>"
            ]
          },
          "metadata": {
            "needs_background": "light"
          }
        }
      ]
    },
    {
      "cell_type": "markdown",
      "source": [
        "#Test Multiple Image"
      ],
      "metadata": {
        "id": "zxKOnbgXRZwo"
      }
    },
    {
      "cell_type": "code",
      "source": [
        "images = test_images[1:5]\n",
        "images = images.reshape(images.shape[0], 28, 28)\n",
        "print (\"Test images array shape: {}\".format(images.shape))\n",
        "\n",
        "\n",
        "for i, test_image in enumerate(images, start=1):\n",
        "\n",
        "    org_image = test_image\n",
        "    test_image = test_image.reshape(1,28,28,1)\n",
        "    prediction = model.predict(test_image, verbose=0)\n",
        "\n",
        "    print (\"Predicted digit: {}\".format(prediction[0]))\n",
        "    plt.subplot(220+i)\n",
        "    plt.axis('off')\n",
        "    plt.title(\"Predicted digit: {}\".format(prediction[0]))\n",
        "    plt.imshow(org_image, cmap=plt.get_cmap('gray'))\n",
        "\n",
        "plt.show()"
      ],
      "metadata": {
        "colab": {
          "base_uri": "https://localhost:8080/",
          "height": 432
        },
        "id": "IyHa5eabRQ4d",
        "outputId": "07ce1b83-8217-4291-cfff-8ccd708d66b7"
      },
      "execution_count": null,
      "outputs": [
        {
          "output_type": "stream",
          "name": "stdout",
          "text": [
            "Test images array shape: (4, 28, 28)\n",
            "Predicted digit: [1.1014351e-01 2.2327474e-01 1.0000000e+00 4.2302310e-03 1.7394537e-07\n",
            " 9.3975192e-12 2.2436710e-07 6.2940866e-02 1.1912245e-08 8.1707006e-09]\n",
            "Predicted digit: [6.5261126e-04 9.9999690e-01 9.3337893e-03 4.6449900e-04 7.5402856e-04\n",
            " 6.0865581e-03 1.6501397e-02 2.0367464e-01 1.4580518e-02 1.0733795e-04]\n",
            "Predicted digit: [1.0000000e+00 6.5966015e-06 5.2816480e-02 8.6182399e-06 1.7741323e-04\n",
            " 9.9809959e-06 5.3694606e-02 1.1067092e-03 2.3949513e-05 1.1146039e-02]\n",
            "Predicted digit: [2.8770141e-06 2.5899400e-05 3.7491216e-06 6.2120722e-05 1.0000000e+00\n",
            " 1.1464383e-05 1.2426347e-02 5.6688954e-05 3.2573578e-01 9.3749166e-01]\n"
          ]
        },
        {
          "output_type": "display_data",
          "data": {
            "image/png": "[encoded data removed]",
            "text/plain": [
              "<Figure size 432x288 with 4 Axes>"
            ]
          },
          "metadata": {
            "needs_background": "light"
          }
        }
      ]
    },
    {
      "cell_type": "code",
      "source": [
        ""
      ],
      "metadata": {
        "id": "pXsvDMj0RfNY"
      },
      "execution_count": null,
      "outputs": []
    }
  ]
}