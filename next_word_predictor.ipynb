{
  "nbformat": 4,
  "nbformat_minor": 0,
  "metadata": {
    "colab": {
      "name": "next word predictor.ipynb",
      "provenance": [],
      "collapsed_sections": [],
      "toc_visible": true,
      "authorship_tag": "ABX9TyOwoU6UnDbYHkFQn5aMY8Lv",
      "include_colab_link": true
    },
    "kernelspec": {
      "name": "python3",
      "display_name": "Python 3"
    },
    "language_info": {
      "name": "python"
    }
  },
  "cells": [
    {
      "cell_type": "markdown",
      "metadata": {
        "id": "view-in-github",
        "colab_type": "text"
      },
      "source": [
        "<a href=\"https://colab.research.google.com/github/EktaSingh1612/LGMVIP/blob/main/next_word_predictor.ipynb\" target=\"_parent\"><img src=\"https://colab.research.google.com/assets/colab-badge.svg\" alt=\"Open In Colab\"/></a>"
      ]
    },
    {
      "cell_type": "markdown",
      "source": [
        "# LGMVIP Data Science Internship\n",
        "\n",
        "##Author : EKTA SINGH\n",
        "\n",
        "##Advanced Level Task 2 - NEXT WORD PREDICTION\n",
        "\n",
        "###Technique used: Using Tensorflow and Keras library train a RNN, to predict the next word."
      ],
      "metadata": {
        "id": "IsMVjPU88bQN"
      }
    },
    {
      "cell_type": "markdown",
      "source": [
        "# Importing libraries"
      ],
      "metadata": {
        "id": "M0XduvWY9M4q"
      }
    },
    {
      "cell_type": "code",
      "execution_count": null,
      "metadata": {
        "id": "LvTXtNCA52G4"
      },
      "outputs": [],
      "source": [
        "import numpy as np\n",
        "from nltk. tokenize import RegexpTokenizer \n",
        "from keras.models import Sequential, load_model \n",
        "from keras.layers import LSTM\n",
        "from keras.layers.core import Dense, Activation \n",
        "from tensorflow.keras.optimizers import RMSprop\n",
        "import matplotlib.pyplot as plt \n",
        "import pickle\n",
        "import heapq"
      ]
    },
    {
      "cell_type": "markdown",
      "source": [
        "\n",
        "\n",
        "# Load the data"
      ],
      "metadata": {
        "id": "WmavkC379XFi"
      }
    },
    {
      "cell_type": "code",
      "source": [
        "txtfile = '1661-0.txt'\n",
        "text = open(txtfile, encoding='utf-8').read().lower() \n",
        "print('corpus length:', len(text))"
      ],
      "metadata": {
        "colab": {
          "base_uri": "https://localhost:8080/"
        },
        "id": "z1yk2usJ589P",
        "outputId": "4d2ea3bc-d250-4770-fa20-ec4a525af57d"
      },
      "execution_count": null,
      "outputs": [
        {
          "output_type": "stream",
          "name": "stdout",
          "text": [
            "corpus length: 581888\n"
          ]
        }
      ]
    },
    {
      "cell_type": "markdown",
      "source": [
        "# Split the entire dataset into each word"
      ],
      "metadata": {
        "id": "jXsZT_b69j9t"
      }
    },
    {
      "cell_type": "code",
      "source": [
        "tokenizer = RegexpTokenizer(r'\\w+')\n",
        "words = tokenizer.tokenize(text)"
      ],
      "metadata": {
        "id": "3wzCA6V76lKY"
      },
      "execution_count": null,
      "outputs": []
    },
    {
      "cell_type": "markdown",
      "source": [
        "# Uniquely sorted word List"
      ],
      "metadata": {
        "id": "2TuTNa6J9qDT"
      }
    },
    {
      "cell_type": "code",
      "source": [
        "unique_words = np.unique(words)\n",
        "unique_word_index = dict((c, i) for i, c in enumerate(unique_words))"
      ],
      "metadata": {
        "id": "ieIljmfS7Hnc"
      },
      "execution_count": null,
      "outputs": []
    },
    {
      "cell_type": "markdown",
      "source": [
        "# Feature Engineering & One Hot Encoding"
      ],
      "metadata": {
        "id": "k4GZc8mu9vHy"
      }
    },
    {
      "cell_type": "code",
      "source": [
        "WORD_LENGTH= 5\n",
        "prev_words = [] \n",
        "next_words = []\n",
        "for i in range(len (words) - WORD_LENGTH):\n",
        "    prev_words.append(words[i:i + WORD_LENGTH])\n",
        "    next_words.append(words[i + WORD_LENGTH])\n",
        "\n",
        "print(prev_words[0]) \n",
        "print(next_words[0])"
      ],
      "metadata": {
        "colab": {
          "base_uri": "https://localhost:8080/"
        },
        "id": "PVM0Hu5w7MO5",
        "outputId": "efe89806-527c-43ad-9e4d-617866d834a1"
      },
      "execution_count": null,
      "outputs": [
        {
          "output_type": "stream",
          "name": "stdout",
          "text": [
            "['project', 'gutenberg', 's', 'the', 'adventures']\n",
            "of\n"
          ]
        }
      ]
    },
    {
      "cell_type": "markdown",
      "source": [
        "## X: sorting the features\n",
        "\n",
        "## Y: sorting the corresponding label(here, next word)"
      ],
      "metadata": {
        "id": "Nm_S0HYf96I-"
      }
    },
    {
      "cell_type": "code",
      "source": [
        "X = np.zeros((len(prev_words), WORD_LENGTH, len(unique_words)), dtype=bool)\n",
        "Y = np.zeros((len (next_words), len(unique_words)), dtype=bool)\n",
        "for i, each_words in enumerate(prev_words):\n",
        "    for j, each_word in enumerate(each_words):\n",
        "        X[i, j, unique_word_index[each_word]] = 1\n",
        "    Y[i, unique_word_index[next_words[i]]] = 1"
      ],
      "metadata": {
        "id": "8KYiXh297QSC"
      },
      "execution_count": null,
      "outputs": []
    },
    {
      "cell_type": "markdown",
      "source": [
        "# Single sequence"
      ],
      "metadata": {
        "id": "Qr0oNrNJ-acq"
      }
    },
    {
      "cell_type": "code",
      "source": [
        "print(X[0][0])"
      ],
      "metadata": {
        "colab": {
          "base_uri": "https://localhost:8080/"
        },
        "id": "oZfZLoXK7Ucg",
        "outputId": "b344907d-91ba-486c-96f5-4aa8216c3680"
      },
      "execution_count": null,
      "outputs": [
        {
          "output_type": "stream",
          "name": "stdout",
          "text": [
            "[False False False ... False False False]\n"
          ]
        }
      ]
    },
    {
      "cell_type": "markdown",
      "source": [
        "# Building the model"
      ],
      "metadata": {
        "id": "SgWh1a5f-eXe"
      }
    },
    {
      "cell_type": "code",
      "source": [
        "model = Sequential()\n",
        "model.add(LSTM(128, input_shape=(WORD_LENGTH, len(unique_words))))\n",
        "model.add(Dense(len(unique_words)))   \n",
        "model.add(Activation('softmax'))"
      ],
      "metadata": {
        "id": "0pcYFASX7Yhj"
      },
      "execution_count": null,
      "outputs": []
    },
    {
      "cell_type": "markdown",
      "source": [
        "# Training the model"
      ],
      "metadata": {
        "id": "5fGmlb5I-omB"
      }
    },
    {
      "cell_type": "code",
      "source": [
        "optimizer = RMSprop(lr = 0.01) \n",
        "model.compile(loss = 'categorical_crossentropy', optimizer = optimizer, metrics=['accuracy'])\n",
        "history = model.fit(X, Y, validation_split=0.05, batch_size=128, epochs=2, shuffle=True).history"
      ],
      "metadata": {
        "colab": {
          "base_uri": "https://localhost:8080/"
        },
        "id": "P1Tfvnv_7bG7",
        "outputId": "1b199bcd-197e-444c-cf0c-ad4bd5030519"
      },
      "execution_count": null,
      "outputs": [
        {
          "output_type": "stream",
          "name": "stderr",
          "text": [
            "/usr/local/lib/python3.7/dist-packages/keras/optimizer_v2/rmsprop.py:130: UserWarning: The `lr` argument is deprecated, use `learning_rate` instead.\n",
            "  super(RMSprop, self).__init__(name, **kwargs)\n"
          ]
        },
        {
          "output_type": "stream",
          "name": "stdout",
          "text": [
            "Epoch 1/2\n",
            "811/811 [==============================] - 264s 322ms/step - loss: 6.0132 - accuracy: 0.1070 - val_loss: 7.0968 - val_accuracy: 0.1027\n",
            "Epoch 2/2\n",
            "811/811 [==============================] - 248s 306ms/step - loss: 5.7670 - accuracy: 0.1474 - val_loss: 7.9484 - val_accuracy: 0.1022\n"
          ]
        }
      ]
    },
    {
      "cell_type": "markdown",
      "source": [
        "# Load the model"
      ],
      "metadata": {
        "id": "sle3mE63-sN7"
      }
    },
    {
      "cell_type": "code",
      "source": [
        "model.save('keras_next_word_model.h5') \n",
        "pickle.dump(history, open(\"history.p\", \"wb\")) \n",
        "model = load_model('keras_next_word_model.h5') \n",
        "history = pickle.load(open(\"history.p\", \"rb\"))"
      ],
      "metadata": {
        "id": "c7N5D-lI7ewN"
      },
      "execution_count": null,
      "outputs": []
    },
    {
      "cell_type": "markdown",
      "source": [
        "# Prediction"
      ],
      "metadata": {
        "id": "rXBSUkpx-2h6"
      }
    },
    {
      "cell_type": "markdown",
      "source": [
        "#Choosing the best possible n word"
      ],
      "metadata": {
        "id": "G2_ba_TQ_kpF"
      }
    },
    {
      "cell_type": "code",
      "source": [
        "def prepare_input(text):\n",
        "    x = np.zeros((1, WORD_LENGTH, len(unique_words))) \n",
        "    for t, word in enumerate(text.split()):\n",
        "        print (word)\n",
        "        x[0, t, unique_word_index[word]] = 1\n",
        "        return x \n",
        "prepare_input(\"It is not a lack\".lower())"
      ],
      "metadata": {
        "colab": {
          "base_uri": "https://localhost:8080/"
        },
        "id": "kAv1pgGo90DO",
        "outputId": "f8534246-8475-4000-d2a4-bbee86d75fe6"
      },
      "execution_count": null,
      "outputs": [
        {
          "output_type": "stream",
          "name": "stdout",
          "text": [
            "it\n"
          ]
        },
        {
          "output_type": "execute_result",
          "data": {
            "text/plain": [
              "array([[[0., 0., 0., ..., 0., 0., 0.],\n",
              "        [0., 0., 0., ..., 0., 0., 0.],\n",
              "        [0., 0., 0., ..., 0., 0., 0.],\n",
              "        [0., 0., 0., ..., 0., 0., 0.],\n",
              "        [0., 0., 0., ..., 0., 0., 0.]]])"
            ]
          },
          "metadata": {},
          "execution_count": 13
        }
      ]
    },
    {
      "cell_type": "code",
      "source": [
        "def sample(preds, top_n = 3):\n",
        "    preds= np.asarray(preds).astype('float64') \n",
        "    preds= np.log(preds)\n",
        "    exp_preds= np.exp(preds) \n",
        "    preds= exp_preds/np.sum(exp_preds) \n",
        "    return heapq.nlargest(top_n, range(len(preds)), preds.take)"
      ],
      "metadata": {
        "id": "X4vsqdEI_cNu"
      },
      "execution_count": null,
      "outputs": []
    },
    {
      "cell_type": "markdown",
      "source": [
        "# Function for Prediction"
      ],
      "metadata": {
        "id": "P0_YsL-i_CIM"
      }
    },
    {
      "cell_type": "code",
      "source": [
        "def predict_completions(text, n=3):\n",
        "    if text == \"\":\n",
        "        return(\"\")\n",
        "    x = prepare_input(text) \n",
        "    preds = model.predict(x, verbose=0)[0]\n",
        "    next_indices = sample(preds, n)\n",
        "    return [unique_words[idx] for idx in next_indices]"
      ],
      "metadata": {
        "id": "6dXRxYrg-9pm"
      },
      "execution_count": null,
      "outputs": []
    },
    {
      "cell_type": "markdown",
      "source": [
        "#Using tokenizer.tokenize for removing punctuations"
      ],
      "metadata": {
        "id": "r0f3nkTk__oQ"
      }
    },
    {
      "cell_type": "code",
      "source": [
        "q = \"Light the candle instead of cursuing darkness\" \n",
        "print(\"correct sentence: \",q) \n",
        "seq = \" \".join(tokenizer.tokenize(q.lower())[0:5]) \n",
        "print(\"Sequence: \",seq) \n",
        "print(\"next possible words: \", predict_completions(seq, 5))"
      ],
      "metadata": {
        "colab": {
          "base_uri": "https://localhost:8080/"
        },
        "id": "5YeSO9NG_4Ch",
        "outputId": "a0ec191d-35fe-498c-e59e-f55bf5b6c559"
      },
      "execution_count": null,
      "outputs": [
        {
          "output_type": "stream",
          "name": "stdout",
          "text": [
            "correct sentence:  Light the candle instead of cursuing darkness\n",
            "Sequence:  light the candle instead of\n",
            "light\n",
            "next possible words:  ['and', 'the', 'a', 'of', 'with']\n"
          ]
        }
      ]
    },
    {
      "cell_type": "code",
      "source": [
        ""
      ],
      "metadata": {
        "id": "DUoBbPSeAEDF"
      },
      "execution_count": null,
      "outputs": []
    }
  ]
}